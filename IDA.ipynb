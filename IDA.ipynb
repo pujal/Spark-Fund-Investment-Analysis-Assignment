{
 "cells": [
  {
   "cell_type": "markdown",
   "metadata": {},
   "source": [
    "# CHECKPOINT 1"
   ]
  },
  {
   "cell_type": "code",
   "execution_count": 2,
   "metadata": {
    "collapsed": true
   },
   "outputs": [],
   "source": [
    "import pandas as pd,numpy as np"
   ]
  },
  {
   "cell_type": "code",
   "execution_count": 3,
   "metadata": {
    "collapsed": true
   },
   "outputs": [],
   "source": [
    "companies = pd.read_csv(\"companies.csv\", encoding='iso-8859-1')\n",
    "rounds2 = pd.read_csv(\"rounds2.csv\", encoding='iso-8859-1')"
   ]
  },
  {
   "cell_type": "code",
   "execution_count": 4,
   "metadata": {},
   "outputs": [
    {
     "data": {
      "text/html": [
       "<div>\n",
       "<style scoped>\n",
       "    .dataframe tbody tr th:only-of-type {\n",
       "        vertical-align: middle;\n",
       "    }\n",
       "\n",
       "    .dataframe tbody tr th {\n",
       "        vertical-align: top;\n",
       "    }\n",
       "\n",
       "    .dataframe thead th {\n",
       "        text-align: right;\n",
       "    }\n",
       "</style>\n",
       "<table border=\"1\" class=\"dataframe\">\n",
       "  <thead>\n",
       "    <tr style=\"text-align: right;\">\n",
       "      <th></th>\n",
       "      <th>permalink</th>\n",
       "      <th>name</th>\n",
       "      <th>homepage_url</th>\n",
       "      <th>category_list</th>\n",
       "      <th>status</th>\n",
       "      <th>country_code</th>\n",
       "      <th>state_code</th>\n",
       "      <th>region</th>\n",
       "      <th>city</th>\n",
       "      <th>founded_at</th>\n",
       "    </tr>\n",
       "  </thead>\n",
       "  <tbody>\n",
       "    <tr>\n",
       "      <th>0</th>\n",
       "      <td>/Organization/-Fame</td>\n",
       "      <td>#fame</td>\n",
       "      <td>http://livfame.com</td>\n",
       "      <td>Media</td>\n",
       "      <td>operating</td>\n",
       "      <td>IND</td>\n",
       "      <td>16</td>\n",
       "      <td>Mumbai</td>\n",
       "      <td>Mumbai</td>\n",
       "      <td>NaN</td>\n",
       "    </tr>\n",
       "    <tr>\n",
       "      <th>1</th>\n",
       "      <td>/Organization/-Qounter</td>\n",
       "      <td>:Qounter</td>\n",
       "      <td>http://www.qounter.com</td>\n",
       "      <td>Application Platforms|Real Time|Social Network...</td>\n",
       "      <td>operating</td>\n",
       "      <td>USA</td>\n",
       "      <td>DE</td>\n",
       "      <td>DE - Other</td>\n",
       "      <td>Delaware City</td>\n",
       "      <td>04-09-2014</td>\n",
       "    </tr>\n",
       "    <tr>\n",
       "      <th>2</th>\n",
       "      <td>/Organization/-The-One-Of-Them-Inc-</td>\n",
       "      <td>(THE) ONE of THEM,Inc.</td>\n",
       "      <td>http://oneofthem.jp</td>\n",
       "      <td>Apps|Games|Mobile</td>\n",
       "      <td>operating</td>\n",
       "      <td>NaN</td>\n",
       "      <td>NaN</td>\n",
       "      <td>NaN</td>\n",
       "      <td>NaN</td>\n",
       "      <td>NaN</td>\n",
       "    </tr>\n",
       "    <tr>\n",
       "      <th>3</th>\n",
       "      <td>/Organization/0-6-Com</td>\n",
       "      <td>0-6.com</td>\n",
       "      <td>http://www.0-6.com</td>\n",
       "      <td>Curated Web</td>\n",
       "      <td>operating</td>\n",
       "      <td>CHN</td>\n",
       "      <td>22</td>\n",
       "      <td>Beijing</td>\n",
       "      <td>Beijing</td>\n",
       "      <td>01-01-2007</td>\n",
       "    </tr>\n",
       "    <tr>\n",
       "      <th>4</th>\n",
       "      <td>/Organization/004-Technologies</td>\n",
       "      <td>004 Technologies</td>\n",
       "      <td>http://004gmbh.de/en/004-interact</td>\n",
       "      <td>Software</td>\n",
       "      <td>operating</td>\n",
       "      <td>USA</td>\n",
       "      <td>IL</td>\n",
       "      <td>Springfield, Illinois</td>\n",
       "      <td>Champaign</td>\n",
       "      <td>01-01-2010</td>\n",
       "    </tr>\n",
       "  </tbody>\n",
       "</table>\n",
       "</div>"
      ],
      "text/plain": [
       "                             permalink                    name  \\\n",
       "0                  /Organization/-Fame                   #fame   \n",
       "1               /Organization/-Qounter                :Qounter   \n",
       "2  /Organization/-The-One-Of-Them-Inc-  (THE) ONE of THEM,Inc.   \n",
       "3                /Organization/0-6-Com                 0-6.com   \n",
       "4       /Organization/004-Technologies        004 Technologies   \n",
       "\n",
       "                        homepage_url  \\\n",
       "0                 http://livfame.com   \n",
       "1             http://www.qounter.com   \n",
       "2                http://oneofthem.jp   \n",
       "3                 http://www.0-6.com   \n",
       "4  http://004gmbh.de/en/004-interact   \n",
       "\n",
       "                                       category_list     status country_code  \\\n",
       "0                                              Media  operating          IND   \n",
       "1  Application Platforms|Real Time|Social Network...  operating          USA   \n",
       "2                                  Apps|Games|Mobile  operating          NaN   \n",
       "3                                        Curated Web  operating          CHN   \n",
       "4                                           Software  operating          USA   \n",
       "\n",
       "  state_code                 region           city  founded_at  \n",
       "0         16                 Mumbai         Mumbai         NaN  \n",
       "1         DE             DE - Other  Delaware City  04-09-2014  \n",
       "2        NaN                    NaN            NaN         NaN  \n",
       "3         22                Beijing        Beijing  01-01-2007  \n",
       "4         IL  Springfield, Illinois      Champaign  01-01-2010  "
      ]
     },
     "execution_count": 4,
     "metadata": {},
     "output_type": "execute_result"
    }
   ],
   "source": [
    "companies.head()"
   ]
  },
  {
   "cell_type": "code",
   "execution_count": 5,
   "metadata": {},
   "outputs": [
    {
     "data": {
      "text/html": [
       "<div>\n",
       "<style scoped>\n",
       "    .dataframe tbody tr th:only-of-type {\n",
       "        vertical-align: middle;\n",
       "    }\n",
       "\n",
       "    .dataframe tbody tr th {\n",
       "        vertical-align: top;\n",
       "    }\n",
       "\n",
       "    .dataframe thead th {\n",
       "        text-align: right;\n",
       "    }\n",
       "</style>\n",
       "<table border=\"1\" class=\"dataframe\">\n",
       "  <thead>\n",
       "    <tr style=\"text-align: right;\">\n",
       "      <th></th>\n",
       "      <th>company_permalink</th>\n",
       "      <th>funding_round_permalink</th>\n",
       "      <th>funding_round_type</th>\n",
       "      <th>funding_round_code</th>\n",
       "      <th>funded_at</th>\n",
       "      <th>raised_amount_usd</th>\n",
       "    </tr>\n",
       "  </thead>\n",
       "  <tbody>\n",
       "    <tr>\n",
       "      <th>0</th>\n",
       "      <td>/organization/-fame</td>\n",
       "      <td>/funding-round/9a01d05418af9f794eebff7ace91f638</td>\n",
       "      <td>venture</td>\n",
       "      <td>B</td>\n",
       "      <td>05-01-2015</td>\n",
       "      <td>10000000.0</td>\n",
       "    </tr>\n",
       "    <tr>\n",
       "      <th>1</th>\n",
       "      <td>/ORGANIZATION/-QOUNTER</td>\n",
       "      <td>/funding-round/22dacff496eb7acb2b901dec1dfe5633</td>\n",
       "      <td>venture</td>\n",
       "      <td>A</td>\n",
       "      <td>14-10-2014</td>\n",
       "      <td>NaN</td>\n",
       "    </tr>\n",
       "    <tr>\n",
       "      <th>2</th>\n",
       "      <td>/organization/-qounter</td>\n",
       "      <td>/funding-round/b44fbb94153f6cdef13083530bb48030</td>\n",
       "      <td>seed</td>\n",
       "      <td>NaN</td>\n",
       "      <td>01-03-2014</td>\n",
       "      <td>700000.0</td>\n",
       "    </tr>\n",
       "    <tr>\n",
       "      <th>3</th>\n",
       "      <td>/ORGANIZATION/-THE-ONE-OF-THEM-INC-</td>\n",
       "      <td>/funding-round/650b8f704416801069bb178a1418776b</td>\n",
       "      <td>venture</td>\n",
       "      <td>B</td>\n",
       "      <td>30-01-2014</td>\n",
       "      <td>3406878.0</td>\n",
       "    </tr>\n",
       "    <tr>\n",
       "      <th>4</th>\n",
       "      <td>/organization/0-6-com</td>\n",
       "      <td>/funding-round/5727accaeaa57461bd22a9bdd945382d</td>\n",
       "      <td>venture</td>\n",
       "      <td>A</td>\n",
       "      <td>19-03-2008</td>\n",
       "      <td>2000000.0</td>\n",
       "    </tr>\n",
       "  </tbody>\n",
       "</table>\n",
       "</div>"
      ],
      "text/plain": [
       "                     company_permalink  \\\n",
       "0                  /organization/-fame   \n",
       "1               /ORGANIZATION/-QOUNTER   \n",
       "2               /organization/-qounter   \n",
       "3  /ORGANIZATION/-THE-ONE-OF-THEM-INC-   \n",
       "4                /organization/0-6-com   \n",
       "\n",
       "                           funding_round_permalink funding_round_type  \\\n",
       "0  /funding-round/9a01d05418af9f794eebff7ace91f638            venture   \n",
       "1  /funding-round/22dacff496eb7acb2b901dec1dfe5633            venture   \n",
       "2  /funding-round/b44fbb94153f6cdef13083530bb48030               seed   \n",
       "3  /funding-round/650b8f704416801069bb178a1418776b            venture   \n",
       "4  /funding-round/5727accaeaa57461bd22a9bdd945382d            venture   \n",
       "\n",
       "  funding_round_code   funded_at  raised_amount_usd  \n",
       "0                  B  05-01-2015         10000000.0  \n",
       "1                  A  14-10-2014                NaN  \n",
       "2                NaN  01-03-2014           700000.0  \n",
       "3                  B  30-01-2014          3406878.0  \n",
       "4                  A  19-03-2008          2000000.0  "
      ]
     },
     "execution_count": 5,
     "metadata": {},
     "output_type": "execute_result"
    }
   ],
   "source": [
    "rounds2.head()"
   ]
  },
  {
   "cell_type": "code",
   "execution_count": 6,
   "metadata": {},
   "outputs": [
    {
     "data": {
      "text/plain": [
       "count                       114949\n",
       "unique                       90247\n",
       "top       /ORGANIZATION/SOLARFLARE\n",
       "freq                            10\n",
       "Name: company_permalink, dtype: object"
      ]
     },
     "execution_count": 6,
     "metadata": {},
     "output_type": "execute_result"
    }
   ],
   "source": [
    "#How many unique companies are present in rounds2?\n",
    "rounds2[\"company_permalink\"].describe()"
   ]
  },
  {
   "cell_type": "code",
   "execution_count": 7,
   "metadata": {},
   "outputs": [
    {
     "data": {
      "text/plain": [
       "count                                              114949\n",
       "unique                                             114949\n",
       "top       /funding-round/b8de4080acbf0895047bfbb02a784024\n",
       "freq                                                    1\n",
       "Name: funding_round_permalink, dtype: object"
      ]
     },
     "execution_count": 7,
     "metadata": {},
     "output_type": "execute_result"
    }
   ],
   "source": [
    "rounds2[\"funding_round_permalink\"].describe()"
   ]
  },
  {
   "cell_type": "code",
   "execution_count": 8,
   "metadata": {},
   "outputs": [
    {
     "data": {
      "text/plain": [
       "count                    66368\n",
       "unique                   66368\n",
       "top       /Organization/Morsel\n",
       "freq                         1\n",
       "Name: permalink, dtype: object"
      ]
     },
     "execution_count": 8,
     "metadata": {},
     "output_type": "execute_result"
    }
   ],
   "source": [
    "companies[\"permalink\"].describe()"
   ]
  },
  {
   "cell_type": "code",
   "execution_count": 18,
   "metadata": {
    "collapsed": true
   },
   "outputs": [],
   "source": [
    "#removing special characters\n",
    "companies[\"permalink\"] = companies[[\"permalink\"]].applymap(lambda x:x.encode('utf-8').decode('ascii','ignore'))\n",
    "companies[\"name\"] = companies[\"name\"].str.encode('utf-8').str.decode('ascii','ignore')\n",
    "rounds2[\"company_permalink\"] = rounds2[[\"company_permalink\"]].applymap(lambda x:x.encode('utf-8').decode('ascii','ignore'))"
   ]
  },
  {
   "cell_type": "code",
   "execution_count": 19,
   "metadata": {},
   "outputs": [
    {
     "data": {
      "text/plain": [
       "0                     /organization/-fame\n",
       "1                  /organization/-qounter\n",
       "2                  /organization/-qounter\n",
       "3     /organization/-the-one-of-them-inc-\n",
       "4                   /organization/0-6-com\n",
       "5          /organization/004-technologies\n",
       "6        /organization/01games-technology\n",
       "7     /organization/0ndine-biomedical-inc\n",
       "8     /organization/0ndine-biomedical-inc\n",
       "9                    /organization/0xdata\n",
       "10                   /organization/0xdata\n",
       "11                   /organization/0xdata\n",
       "12                   /organization/0xdata\n",
       "13                        /organization/1\n",
       "14                        /organization/1\n",
       "15                        /organization/1\n",
       "16              /organization/1-2-3-listo\n",
       "17                  /organization/1-4-all\n",
       "18         /organization/1-618-technology\n",
       "19            /organization/1-800-dentist\n",
       "Name: company_permalink, dtype: object"
      ]
     },
     "execution_count": 19,
     "metadata": {},
     "output_type": "execute_result"
    }
   ],
   "source": [
    "rounds2[\"company_permalink\"] = rounds2[\"company_permalink\"].apply(lambda x: x.lower())\n",
    "rounds2[\"company_permalink\"].head(20)"
   ]
  },
  {
   "cell_type": "code",
   "execution_count": 20,
   "metadata": {},
   "outputs": [
    {
     "data": {
      "text/plain": [
       "count                       114949\n",
       "unique                       66368\n",
       "top       /organization/solarflare\n",
       "freq                            19\n",
       "Name: company_permalink, dtype: object"
      ]
     },
     "execution_count": 20,
     "metadata": {},
     "output_type": "execute_result"
    }
   ],
   "source": [
    "rounds2[\"company_permalink\"].describe()"
   ]
  },
  {
   "cell_type": "code",
   "execution_count": 21,
   "metadata": {},
   "outputs": [
    {
     "data": {
      "text/plain": [
       "count                                        66368\n",
       "unique                                       66368\n",
       "top       /organization/applied-solar-technologies\n",
       "freq                                             1\n",
       "Name: permalink, dtype: object"
      ]
     },
     "execution_count": 21,
     "metadata": {},
     "output_type": "execute_result"
    }
   ],
   "source": [
    "companies[\"permalink\"] = companies[\"permalink\"].apply(lambda x: x.lower())\n",
    "companies[\"permalink\"].describe()"
   ]
  },
  {
   "cell_type": "code",
   "execution_count": 22,
   "metadata": {},
   "outputs": [
    {
     "data": {
      "text/plain": [
       "count                                        66368\n",
       "unique                                       66368\n",
       "top       /organization/applied-solar-technologies\n",
       "freq                                             1\n",
       "Name: company_permalink, dtype: object"
      ]
     },
     "execution_count": 22,
     "metadata": {},
     "output_type": "execute_result"
    }
   ],
   "source": [
    "rounds2_drop = rounds2.drop_duplicates(subset='company_permalink', keep='first')\n",
    "rounds2_drop[\"company_permalink\"].describe()"
   ]
  },
  {
   "cell_type": "code",
   "execution_count": 23,
   "metadata": {},
   "outputs": [
    {
     "data": {
      "text/plain": [
       "count                       114949\n",
       "unique                       66368\n",
       "top       /organization/solarflare\n",
       "freq                            19\n",
       "Name: company_permalink, dtype: object"
      ]
     },
     "execution_count": 23,
     "metadata": {},
     "output_type": "execute_result"
    }
   ],
   "source": [
    "rounds2[\"company_permalink\"].describe()"
   ]
  },
  {
   "cell_type": "code",
   "execution_count": 24,
   "metadata": {},
   "outputs": [
    {
     "data": {
      "text/plain": [
       "66368"
      ]
     },
     "execution_count": 24,
     "metadata": {},
     "output_type": "execute_result"
    }
   ],
   "source": [
    "rounds2[\"company_permalink\"].nunique()"
   ]
  },
  {
   "cell_type": "code",
   "execution_count": 65,
   "metadata": {},
   "outputs": [
    {
     "data": {
      "text/plain": [
       "(114949, 16)"
      ]
     },
     "execution_count": 65,
     "metadata": {},
     "output_type": "execute_result"
    }
   ],
   "source": [
    "master_frame = pd.merge(rounds2, companies, left_on='company_permalink',right_on='permalink',how='outer')\n",
    "master_frame.shape"
   ]
  },
  {
   "cell_type": "markdown",
   "metadata": {},
   "source": [
    "# CHECKPOINT 2"
   ]
  },
  {
   "cell_type": "code",
   "execution_count": 66,
   "metadata": {},
   "outputs": [
    {
     "data": {
      "text/html": [
       "<div>\n",
       "<style scoped>\n",
       "    .dataframe tbody tr th:only-of-type {\n",
       "        vertical-align: middle;\n",
       "    }\n",
       "\n",
       "    .dataframe tbody tr th {\n",
       "        vertical-align: top;\n",
       "    }\n",
       "\n",
       "    .dataframe thead th {\n",
       "        text-align: right;\n",
       "    }\n",
       "</style>\n",
       "<table border=\"1\" class=\"dataframe\">\n",
       "  <thead>\n",
       "    <tr style=\"text-align: right;\">\n",
       "      <th></th>\n",
       "      <th>company_permalink</th>\n",
       "      <th>funding_round_permalink</th>\n",
       "      <th>funding_round_type</th>\n",
       "      <th>funding_round_code</th>\n",
       "      <th>funded_at</th>\n",
       "      <th>raised_amount_usd</th>\n",
       "      <th>permalink</th>\n",
       "      <th>name</th>\n",
       "      <th>homepage_url</th>\n",
       "      <th>category_list</th>\n",
       "      <th>status</th>\n",
       "      <th>country_code</th>\n",
       "      <th>state_code</th>\n",
       "      <th>region</th>\n",
       "      <th>city</th>\n",
       "      <th>founded_at</th>\n",
       "    </tr>\n",
       "  </thead>\n",
       "  <tbody>\n",
       "    <tr>\n",
       "      <th>0</th>\n",
       "      <td>/organization/-fame</td>\n",
       "      <td>/funding-round/9a01d05418af9f794eebff7ace91f638</td>\n",
       "      <td>venture</td>\n",
       "      <td>B</td>\n",
       "      <td>05-01-2015</td>\n",
       "      <td>10000000.0</td>\n",
       "      <td>/organization/-fame</td>\n",
       "      <td>#fame</td>\n",
       "      <td>http://livfame.com</td>\n",
       "      <td>Media</td>\n",
       "      <td>operating</td>\n",
       "      <td>IND</td>\n",
       "      <td>16</td>\n",
       "      <td>Mumbai</td>\n",
       "      <td>Mumbai</td>\n",
       "      <td>NaN</td>\n",
       "    </tr>\n",
       "    <tr>\n",
       "      <th>1</th>\n",
       "      <td>/organization/-qounter</td>\n",
       "      <td>/funding-round/22dacff496eb7acb2b901dec1dfe5633</td>\n",
       "      <td>venture</td>\n",
       "      <td>A</td>\n",
       "      <td>14-10-2014</td>\n",
       "      <td>NaN</td>\n",
       "      <td>/organization/-qounter</td>\n",
       "      <td>:Qounter</td>\n",
       "      <td>http://www.qounter.com</td>\n",
       "      <td>Application Platforms|Real Time|Social Network...</td>\n",
       "      <td>operating</td>\n",
       "      <td>USA</td>\n",
       "      <td>DE</td>\n",
       "      <td>DE - Other</td>\n",
       "      <td>Delaware City</td>\n",
       "      <td>04-09-2014</td>\n",
       "    </tr>\n",
       "    <tr>\n",
       "      <th>2</th>\n",
       "      <td>/organization/-qounter</td>\n",
       "      <td>/funding-round/b44fbb94153f6cdef13083530bb48030</td>\n",
       "      <td>seed</td>\n",
       "      <td>NaN</td>\n",
       "      <td>01-03-2014</td>\n",
       "      <td>700000.0</td>\n",
       "      <td>/organization/-qounter</td>\n",
       "      <td>:Qounter</td>\n",
       "      <td>http://www.qounter.com</td>\n",
       "      <td>Application Platforms|Real Time|Social Network...</td>\n",
       "      <td>operating</td>\n",
       "      <td>USA</td>\n",
       "      <td>DE</td>\n",
       "      <td>DE - Other</td>\n",
       "      <td>Delaware City</td>\n",
       "      <td>04-09-2014</td>\n",
       "    </tr>\n",
       "    <tr>\n",
       "      <th>3</th>\n",
       "      <td>/organization/-the-one-of-them-inc-</td>\n",
       "      <td>/funding-round/650b8f704416801069bb178a1418776b</td>\n",
       "      <td>venture</td>\n",
       "      <td>B</td>\n",
       "      <td>30-01-2014</td>\n",
       "      <td>3406878.0</td>\n",
       "      <td>/organization/-the-one-of-them-inc-</td>\n",
       "      <td>(THE) ONE of THEM,Inc.</td>\n",
       "      <td>http://oneofthem.jp</td>\n",
       "      <td>Apps|Games|Mobile</td>\n",
       "      <td>operating</td>\n",
       "      <td>NaN</td>\n",
       "      <td>NaN</td>\n",
       "      <td>NaN</td>\n",
       "      <td>NaN</td>\n",
       "      <td>NaN</td>\n",
       "    </tr>\n",
       "    <tr>\n",
       "      <th>4</th>\n",
       "      <td>/organization/0-6-com</td>\n",
       "      <td>/funding-round/5727accaeaa57461bd22a9bdd945382d</td>\n",
       "      <td>venture</td>\n",
       "      <td>A</td>\n",
       "      <td>19-03-2008</td>\n",
       "      <td>2000000.0</td>\n",
       "      <td>/organization/0-6-com</td>\n",
       "      <td>0-6.com</td>\n",
       "      <td>http://www.0-6.com</td>\n",
       "      <td>Curated Web</td>\n",
       "      <td>operating</td>\n",
       "      <td>CHN</td>\n",
       "      <td>22</td>\n",
       "      <td>Beijing</td>\n",
       "      <td>Beijing</td>\n",
       "      <td>01-01-2007</td>\n",
       "    </tr>\n",
       "    <tr>\n",
       "      <th>5</th>\n",
       "      <td>/organization/004-technologies</td>\n",
       "      <td>/funding-round/1278dd4e6a37fa4b7d7e06c21b3c1830</td>\n",
       "      <td>venture</td>\n",
       "      <td>NaN</td>\n",
       "      <td>24-07-2014</td>\n",
       "      <td>NaN</td>\n",
       "      <td>/organization/004-technologies</td>\n",
       "      <td>004 Technologies</td>\n",
       "      <td>http://004gmbh.de/en/004-interact</td>\n",
       "      <td>Software</td>\n",
       "      <td>operating</td>\n",
       "      <td>USA</td>\n",
       "      <td>IL</td>\n",
       "      <td>Springfield, Illinois</td>\n",
       "      <td>Champaign</td>\n",
       "      <td>01-01-2010</td>\n",
       "    </tr>\n",
       "    <tr>\n",
       "      <th>6</th>\n",
       "      <td>/organization/01games-technology</td>\n",
       "      <td>/funding-round/7d53696f2b4f607a2f2a8cbb83d01839</td>\n",
       "      <td>undisclosed</td>\n",
       "      <td>NaN</td>\n",
       "      <td>01-07-2014</td>\n",
       "      <td>41250.0</td>\n",
       "      <td>/organization/01games-technology</td>\n",
       "      <td>01Games Technology</td>\n",
       "      <td>http://www.01games.hk/</td>\n",
       "      <td>Games</td>\n",
       "      <td>operating</td>\n",
       "      <td>HKG</td>\n",
       "      <td>NaN</td>\n",
       "      <td>Hong Kong</td>\n",
       "      <td>Hong Kong</td>\n",
       "      <td>NaN</td>\n",
       "    </tr>\n",
       "    <tr>\n",
       "      <th>7</th>\n",
       "      <td>/organization/0ndine-biomedical-inc</td>\n",
       "      <td>/funding-round/2b9d3ac293d5cdccbecff5c8cb0f327d</td>\n",
       "      <td>seed</td>\n",
       "      <td>NaN</td>\n",
       "      <td>11-09-2009</td>\n",
       "      <td>43360.0</td>\n",
       "      <td>/organization/0ndine-biomedical-inc</td>\n",
       "      <td>Ondine Biomedical Inc.</td>\n",
       "      <td>http://ondinebio.com</td>\n",
       "      <td>Biotechnology</td>\n",
       "      <td>operating</td>\n",
       "      <td>CAN</td>\n",
       "      <td>BC</td>\n",
       "      <td>Vancouver</td>\n",
       "      <td>Vancouver</td>\n",
       "      <td>01-01-1997</td>\n",
       "    </tr>\n",
       "    <tr>\n",
       "      <th>8</th>\n",
       "      <td>/organization/0ndine-biomedical-inc</td>\n",
       "      <td>/funding-round/954b9499724b946ad8c396a57a5f3b72</td>\n",
       "      <td>venture</td>\n",
       "      <td>NaN</td>\n",
       "      <td>21-12-2009</td>\n",
       "      <td>719491.0</td>\n",
       "      <td>/organization/0ndine-biomedical-inc</td>\n",
       "      <td>Ondine Biomedical Inc.</td>\n",
       "      <td>http://ondinebio.com</td>\n",
       "      <td>Biotechnology</td>\n",
       "      <td>operating</td>\n",
       "      <td>CAN</td>\n",
       "      <td>BC</td>\n",
       "      <td>Vancouver</td>\n",
       "      <td>Vancouver</td>\n",
       "      <td>01-01-1997</td>\n",
       "    </tr>\n",
       "    <tr>\n",
       "      <th>9</th>\n",
       "      <td>/organization/0xdata</td>\n",
       "      <td>/funding-round/383a9bd2c04f7038bb543ccef5ba3eae</td>\n",
       "      <td>seed</td>\n",
       "      <td>NaN</td>\n",
       "      <td>22-05-2013</td>\n",
       "      <td>3000000.0</td>\n",
       "      <td>/organization/0xdata</td>\n",
       "      <td>H2O.ai</td>\n",
       "      <td>http://h2o.ai/</td>\n",
       "      <td>Analytics</td>\n",
       "      <td>operating</td>\n",
       "      <td>USA</td>\n",
       "      <td>CA</td>\n",
       "      <td>SF Bay Area</td>\n",
       "      <td>Mountain View</td>\n",
       "      <td>01-01-2011</td>\n",
       "    </tr>\n",
       "  </tbody>\n",
       "</table>\n",
       "</div>"
      ],
      "text/plain": [
       "                     company_permalink  \\\n",
       "0                  /organization/-fame   \n",
       "1               /organization/-qounter   \n",
       "2               /organization/-qounter   \n",
       "3  /organization/-the-one-of-them-inc-   \n",
       "4                /organization/0-6-com   \n",
       "5       /organization/004-technologies   \n",
       "6     /organization/01games-technology   \n",
       "7  /organization/0ndine-biomedical-inc   \n",
       "8  /organization/0ndine-biomedical-inc   \n",
       "9                 /organization/0xdata   \n",
       "\n",
       "                           funding_round_permalink funding_round_type  \\\n",
       "0  /funding-round/9a01d05418af9f794eebff7ace91f638            venture   \n",
       "1  /funding-round/22dacff496eb7acb2b901dec1dfe5633            venture   \n",
       "2  /funding-round/b44fbb94153f6cdef13083530bb48030               seed   \n",
       "3  /funding-round/650b8f704416801069bb178a1418776b            venture   \n",
       "4  /funding-round/5727accaeaa57461bd22a9bdd945382d            venture   \n",
       "5  /funding-round/1278dd4e6a37fa4b7d7e06c21b3c1830            venture   \n",
       "6  /funding-round/7d53696f2b4f607a2f2a8cbb83d01839        undisclosed   \n",
       "7  /funding-round/2b9d3ac293d5cdccbecff5c8cb0f327d               seed   \n",
       "8  /funding-round/954b9499724b946ad8c396a57a5f3b72            venture   \n",
       "9  /funding-round/383a9bd2c04f7038bb543ccef5ba3eae               seed   \n",
       "\n",
       "  funding_round_code   funded_at  raised_amount_usd  \\\n",
       "0                  B  05-01-2015         10000000.0   \n",
       "1                  A  14-10-2014                NaN   \n",
       "2                NaN  01-03-2014           700000.0   \n",
       "3                  B  30-01-2014          3406878.0   \n",
       "4                  A  19-03-2008          2000000.0   \n",
       "5                NaN  24-07-2014                NaN   \n",
       "6                NaN  01-07-2014            41250.0   \n",
       "7                NaN  11-09-2009            43360.0   \n",
       "8                NaN  21-12-2009           719491.0   \n",
       "9                NaN  22-05-2013          3000000.0   \n",
       "\n",
       "                             permalink                    name  \\\n",
       "0                  /organization/-fame                   #fame   \n",
       "1               /organization/-qounter                :Qounter   \n",
       "2               /organization/-qounter                :Qounter   \n",
       "3  /organization/-the-one-of-them-inc-  (THE) ONE of THEM,Inc.   \n",
       "4                /organization/0-6-com                 0-6.com   \n",
       "5       /organization/004-technologies        004 Technologies   \n",
       "6     /organization/01games-technology      01Games Technology   \n",
       "7  /organization/0ndine-biomedical-inc  Ondine Biomedical Inc.   \n",
       "8  /organization/0ndine-biomedical-inc  Ondine Biomedical Inc.   \n",
       "9                 /organization/0xdata                  H2O.ai   \n",
       "\n",
       "                        homepage_url  \\\n",
       "0                 http://livfame.com   \n",
       "1             http://www.qounter.com   \n",
       "2             http://www.qounter.com   \n",
       "3                http://oneofthem.jp   \n",
       "4                 http://www.0-6.com   \n",
       "5  http://004gmbh.de/en/004-interact   \n",
       "6             http://www.01games.hk/   \n",
       "7               http://ondinebio.com   \n",
       "8               http://ondinebio.com   \n",
       "9                     http://h2o.ai/   \n",
       "\n",
       "                                       category_list     status country_code  \\\n",
       "0                                              Media  operating          IND   \n",
       "1  Application Platforms|Real Time|Social Network...  operating          USA   \n",
       "2  Application Platforms|Real Time|Social Network...  operating          USA   \n",
       "3                                  Apps|Games|Mobile  operating          NaN   \n",
       "4                                        Curated Web  operating          CHN   \n",
       "5                                           Software  operating          USA   \n",
       "6                                              Games  operating          HKG   \n",
       "7                                      Biotechnology  operating          CAN   \n",
       "8                                      Biotechnology  operating          CAN   \n",
       "9                                          Analytics  operating          USA   \n",
       "\n",
       "  state_code                 region           city  founded_at  \n",
       "0         16                 Mumbai         Mumbai         NaN  \n",
       "1         DE             DE - Other  Delaware City  04-09-2014  \n",
       "2         DE             DE - Other  Delaware City  04-09-2014  \n",
       "3        NaN                    NaN            NaN         NaN  \n",
       "4         22                Beijing        Beijing  01-01-2007  \n",
       "5         IL  Springfield, Illinois      Champaign  01-01-2010  \n",
       "6        NaN              Hong Kong      Hong Kong         NaN  \n",
       "7         BC              Vancouver      Vancouver  01-01-1997  \n",
       "8         BC              Vancouver      Vancouver  01-01-1997  \n",
       "9         CA            SF Bay Area  Mountain View  01-01-2011  "
      ]
     },
     "execution_count": 66,
     "metadata": {},
     "output_type": "execute_result"
    }
   ],
   "source": [
    "master_frame.head(10)"
   ]
  },
  {
   "cell_type": "code",
   "execution_count": 67,
   "metadata": {},
   "outputs": [
    {
     "data": {
      "text/plain": [
       "(94959, 16)"
      ]
     },
     "execution_count": 67,
     "metadata": {},
     "output_type": "execute_result"
    }
   ],
   "source": [
    "#need to remove null values in raised_amount_usd\n",
    "#master_frame = master_frame.dropna(subset=['raised_amount_usd'], inplace=True)\n",
    "#master_frame[master_frame['raised_amount_usd'].notnull()]\n",
    "#master_frame[pd.notnull(master_frame['raised_amount_usd'])]\n",
    "master_frame_1 = master_frame[master_frame['raised_amount_usd'].notna()]\n",
    "master_frame_1.shape"
   ]
  },
  {
   "cell_type": "code",
   "execution_count": 68,
   "metadata": {},
   "outputs": [
    {
     "name": "stdout",
     "output_type": "stream",
     "text": [
      "<class 'pandas.core.frame.DataFrame'>\n",
      "Int64Index: 80627 entries, 0 to 114947\n",
      "Data columns (total 16 columns):\n",
      " #   Column                   Non-Null Count  Dtype  \n",
      "---  ------                   --------------  -----  \n",
      " 0   company_permalink        80627 non-null  object \n",
      " 1   funding_round_permalink  80627 non-null  object \n",
      " 2   funding_round_type       80627 non-null  object \n",
      " 3   funding_round_code       28153 non-null  object \n",
      " 4   funded_at                80627 non-null  object \n",
      " 5   raised_amount_usd        80627 non-null  float64\n",
      " 6   permalink                80627 non-null  object \n",
      " 7   name                     80626 non-null  object \n",
      " 8   homepage_url             77182 non-null  object \n",
      " 9   category_list            79772 non-null  object \n",
      " 10  status                   80627 non-null  object \n",
      " 11  country_code             75606 non-null  object \n",
      " 12  state_code               74055 non-null  object \n",
      " 13  region                   74564 non-null  object \n",
      " 14  city                     74567 non-null  object \n",
      " 15  founded_at               67181 non-null  object \n",
      "dtypes: float64(1), object(15)\n",
      "memory usage: 10.5+ MB\n"
     ]
    }
   ],
   "source": [
    "master_frame_1 = master_frame_1[master_frame_1[\"funding_round_type\"].isin([\"venture\",\"angel\",\"seed\",\"private_equity\"])]\n",
    "master_frame_1.info()"
   ]
  },
  {
   "cell_type": "code",
   "execution_count": 69,
   "metadata": {},
   "outputs": [
    {
     "data": {
      "text/plain": [
       "6430618.40824329"
      ]
     },
     "execution_count": 69,
     "metadata": {},
     "output_type": "execute_result"
    }
   ],
   "source": [
    "#venture mean after removing outliers \n",
    "master_frame_venture = master_frame_1[master_frame_1[\"funding_round_type\"].isin([\"venture\"])]\n",
    "Q1_venture = master_frame_venture[\"raised_amount_usd\"].quantile(0.25)\n",
    "Q3_venture = master_frame_venture[\"raised_amount_usd\"].quantile(0.75)\n",
    "IQR_venture = Q3_venture - Q1_venture\n",
    "master_frame_venture = master_frame_venture[~((master_frame_venture[\"raised_amount_usd\"] < (Q1_venture - 1.5 * IQR_venture)) | (master_frame_venture[\"raised_amount_usd\"] > (Q3_venture + 1.5 * IQR_venture)))]\n",
    "master_frame_venture[\"raised_amount_usd\"].mean()\n",
    "#master_frame_venture.shape"
   ]
  },
  {
   "cell_type": "code",
   "execution_count": 70,
   "metadata": {},
   "outputs": [
    {
     "data": {
      "text/plain": [
       "500546.10896198894"
      ]
     },
     "execution_count": 70,
     "metadata": {},
     "output_type": "execute_result"
    }
   ],
   "source": [
    "#seed mean after removing outliers\n",
    "master_frame_seed = master_frame_1[master_frame_1[\"funding_round_type\"].isin([\"seed\"])]\n",
    "Q1_seed = master_frame_seed[\"raised_amount_usd\"].quantile(0.25)\n",
    "Q3_seed = master_frame_seed[\"raised_amount_usd\"].quantile(0.75)\n",
    "IQR_seed = Q3_seed - Q1_seed\n",
    "master_frame_seed = master_frame_seed[~((master_frame_seed[\"raised_amount_usd\"] < (Q1_seed - 1.5 * IQR_seed)) | (master_frame_seed[\"raised_amount_usd\"] > (Q3_seed + 1.5 * IQR_seed)))]\n",
    "master_frame_seed[\"raised_amount_usd\"].mean()"
   ]
  },
  {
   "cell_type": "code",
   "execution_count": 71,
   "metadata": {},
   "outputs": [
    {
     "data": {
      "text/plain": [
       "533331.2538529282"
      ]
     },
     "execution_count": 71,
     "metadata": {},
     "output_type": "execute_result"
    }
   ],
   "source": [
    "#angel mean after removing outliers\n",
    "master_frame_angel = master_frame_1[master_frame_1[\"funding_round_type\"].isin([\"angel\"])]\n",
    "Q1_angel = master_frame_angel[\"raised_amount_usd\"].quantile(0.25)\n",
    "Q3_angel = master_frame_angel[\"raised_amount_usd\"].quantile(0.75)\n",
    "IQR_angel = Q3_angel - Q1_angel\n",
    "master_frame_angel = master_frame_angel[~((master_frame_angel[\"raised_amount_usd\"] < (Q1_angel - 1.5 * IQR_angel)) | (master_frame_angel[\"raised_amount_usd\"] > (Q3_angel + 1.5 * IQR_angel)))]\n",
    "master_frame_angel[\"raised_amount_usd\"].mean()"
   ]
  },
  {
   "cell_type": "code",
   "execution_count": 83,
   "metadata": {},
   "outputs": [
    {
     "data": {
      "text/plain": [
       "34957882.447922595"
      ]
     },
     "execution_count": 83,
     "metadata": {},
     "output_type": "execute_result"
    }
   ],
   "source": [
    "#private equity after removing outliers\n",
    "master_frame_private_equity = master_frame_1[master_frame_1[\"funding_round_type\"].isin([\"private_equity\"])]\n",
    "Q1_private_equity = master_frame_private_equity[\"raised_amount_usd\"].quantile(0.25)\n",
    "Q3_private_equity = master_frame_private_equity[\"raised_amount_usd\"].quantile(0.75)\n",
    "IQR_private_equity = Q3_private_equity - Q1_private_equity\n",
    "master_frame_private_equity = master_frame_private_equity[~((master_frame_private_equity[\"raised_amount_usd\"] < (Q1_private_equity - 1.5 * IQR_private_equity)) | (master_frame_private_equity[\"raised_amount_usd\"] > (Q3_private_equity + 1.5 * IQR_private_equity)))]\n",
    "#master_frame_private_equity = master_frame_private_equity[~((master_frame_private_equity[\"funding_round_type\"] < (Q1_private_equity - 1.5 * IQR_private_equity)) | (master_frame_private_equity[\"raised_amount_usd\"] > (Q3_private_equity + 1.5 * IQR_private_equity)))]\n",
    "master_frame_private_equity[\"raised_amount_usd\"].mean()"
   ]
  },
  {
   "cell_type": "code",
   "execution_count": 85,
   "metadata": {},
   "outputs": [
    {
     "data": {
      "text/plain": [
       "(74486, 16)"
      ]
     },
     "execution_count": 85,
     "metadata": {},
     "output_type": "execute_result"
    }
   ],
   "source": [
    "tmp_1 = master_frame_venture.append(master_frame_seed, ignore_index=True)\n",
    "tmp_2 = master_frame_angel.append(master_frame_private_equity, ignore_index=True)\n",
    "master_frame_2 = tmp_1.append(tmp_2, ignore_index=True)\n",
    "master_frame_2.shape"
   ]
  },
  {
   "cell_type": "code",
   "execution_count": 78,
   "metadata": {},
   "outputs": [
    {
     "data": {
      "image/png": "[encoded data removed]",
      "text/plain": [
       "<Figure size 432x288 with 1 Axes>"
      ]
     },
     "metadata": {
      "needs_background": "light"
     },
     "output_type": "display_data"
    }
   ],
   "source": [
    "master_frame_1.shape\n",
    "import matplotlib.pyplot as plt\n",
    "import seaborn as sns\n",
    "sns.boxplot(master_frame_1[\"funding_round_type\"], master_frame_1[\"raised_amount_usd\"])\n",
    "plt.show()"
   ]
  },
  {
   "cell_type": "code",
   "execution_count": 79,
   "metadata": {},
   "outputs": [
    {
     "data": {
      "text/plain": [
       "venture           50228\n",
       "seed              23603\n",
       "angel              4860\n",
       "private_equity     1936\n",
       "Name: funding_round_type, dtype: int64"
      ]
     },
     "execution_count": 79,
     "metadata": {},
     "output_type": "execute_result"
    }
   ],
   "source": [
    "master_frame_1[\"funding_round_type\"].value_counts()"
   ]
  },
  {
   "cell_type": "code",
   "execution_count": 80,
   "metadata": {},
   "outputs": [
    {
     "data": {
      "text/plain": [
       "funding_round_type\n",
       "venture           1.475322e+11\n",
       "private_equity    3.982620e+09\n",
       "seed              1.341915e+09\n",
       "angel             5.192895e+08\n",
       "Name: raised_amount_usd, dtype: float64"
      ]
     },
     "execution_count": 80,
     "metadata": {},
     "output_type": "execute_result"
    }
   ],
   "source": [
    "master_frame_1_check = master_frame_1[(master_frame_1[\"raised_amount_usd\"] <= 15000000.0) & (master_frame_1[\"raised_amount_usd\"] >= 5000000.0)]\n",
    "master_frame_1_check.groupby(\"funding_round_type\")[\"raised_amount_usd\"].sum().sort_values(ascending=False)"
   ]
  },
  {
   "cell_type": "code",
   "execution_count": 86,
   "metadata": {},
   "outputs": [
    {
     "data": {
      "image/png": "[encoded data removed]",
      "text/plain": [
       "<Figure size 432x288 with 1 Axes>"
      ]
     },
     "metadata": {
      "needs_background": "light"
     },
     "output_type": "display_data"
    }
   ],
   "source": [
    "sns.boxplot(master_frame_2[\"funding_round_type\"], master_frame_2[\"raised_amount_usd\"])\n",
    "plt.show()"
   ]
  },
  {
   "cell_type": "code",
   "execution_count": 87,
   "metadata": {},
   "outputs": [
    {
     "data": {
      "text/plain": [
       "venture           45904\n",
       "seed              22283\n",
       "angel              4542\n",
       "private_equity     1757\n",
       "Name: funding_round_type, dtype: int64"
      ]
     },
     "execution_count": 87,
     "metadata": {},
     "output_type": "execute_result"
    }
   ],
   "source": [
    "master_frame_2[\"funding_round_type\"].value_counts()"
   ]
  },
  {
   "cell_type": "code",
   "execution_count": 88,
   "metadata": {},
   "outputs": [
    {
     "data": {
      "text/plain": [
       "funding_round_type\n",
       "venture           1.475322e+11\n",
       "private_equity    3.982620e+09\n",
       "Name: raised_amount_usd, dtype: float64"
      ]
     },
     "execution_count": 88,
     "metadata": {},
     "output_type": "execute_result"
    }
   ],
   "source": [
    "master_frame_2_check = master_frame_2[(master_frame_2[\"raised_amount_usd\"] <= 15000000.0) & (master_frame_2[\"raised_amount_usd\"] >= 5000000.0)]\n",
    "master_frame_2_check.groupby(\"funding_round_type\")[\"raised_amount_usd\"].sum().sort_values(ascending=False)"
   ]
  },
  {
   "cell_type": "markdown",
   "metadata": {},
   "source": [
    "# CHECKPOINT 3"
   ]
  },
  {
   "cell_type": "code",
   "execution_count": 89,
   "metadata": {},
   "outputs": [
    {
     "data": {
      "text/html": [
       "<div>\n",
       "<style scoped>\n",
       "    .dataframe tbody tr th:only-of-type {\n",
       "        vertical-align: middle;\n",
       "    }\n",
       "\n",
       "    .dataframe tbody tr th {\n",
       "        vertical-align: top;\n",
       "    }\n",
       "\n",
       "    .dataframe thead th {\n",
       "        text-align: right;\n",
       "    }\n",
       "</style>\n",
       "<table border=\"1\" class=\"dataframe\">\n",
       "  <thead>\n",
       "    <tr style=\"text-align: right;\">\n",
       "      <th></th>\n",
       "      <th>company_permalink</th>\n",
       "      <th>funding_round_permalink</th>\n",
       "      <th>funding_round_type</th>\n",
       "      <th>funding_round_code</th>\n",
       "      <th>funded_at</th>\n",
       "      <th>raised_amount_usd</th>\n",
       "      <th>permalink</th>\n",
       "      <th>name</th>\n",
       "      <th>homepage_url</th>\n",
       "      <th>category_list</th>\n",
       "      <th>status</th>\n",
       "      <th>country_code</th>\n",
       "      <th>state_code</th>\n",
       "      <th>region</th>\n",
       "      <th>city</th>\n",
       "      <th>founded_at</th>\n",
       "    </tr>\n",
       "  </thead>\n",
       "  <tbody>\n",
       "    <tr>\n",
       "      <th>0</th>\n",
       "      <td>/organization/-fame</td>\n",
       "      <td>/funding-round/9a01d05418af9f794eebff7ace91f638</td>\n",
       "      <td>venture</td>\n",
       "      <td>B</td>\n",
       "      <td>05-01-2015</td>\n",
       "      <td>10000000.0</td>\n",
       "      <td>/organization/-fame</td>\n",
       "      <td>#fame</td>\n",
       "      <td>http://livfame.com</td>\n",
       "      <td>Media</td>\n",
       "      <td>operating</td>\n",
       "      <td>IND</td>\n",
       "      <td>16</td>\n",
       "      <td>Mumbai</td>\n",
       "      <td>Mumbai</td>\n",
       "      <td>NaN</td>\n",
       "    </tr>\n",
       "    <tr>\n",
       "      <th>1</th>\n",
       "      <td>/organization/-the-one-of-them-inc-</td>\n",
       "      <td>/funding-round/650b8f704416801069bb178a1418776b</td>\n",
       "      <td>venture</td>\n",
       "      <td>B</td>\n",
       "      <td>30-01-2014</td>\n",
       "      <td>3406878.0</td>\n",
       "      <td>/organization/-the-one-of-them-inc-</td>\n",
       "      <td>(THE) ONE of THEM,Inc.</td>\n",
       "      <td>http://oneofthem.jp</td>\n",
       "      <td>Apps|Games|Mobile</td>\n",
       "      <td>operating</td>\n",
       "      <td>NaN</td>\n",
       "      <td>NaN</td>\n",
       "      <td>NaN</td>\n",
       "      <td>NaN</td>\n",
       "      <td>NaN</td>\n",
       "    </tr>\n",
       "    <tr>\n",
       "      <th>2</th>\n",
       "      <td>/organization/0-6-com</td>\n",
       "      <td>/funding-round/5727accaeaa57461bd22a9bdd945382d</td>\n",
       "      <td>venture</td>\n",
       "      <td>A</td>\n",
       "      <td>19-03-2008</td>\n",
       "      <td>2000000.0</td>\n",
       "      <td>/organization/0-6-com</td>\n",
       "      <td>0-6.com</td>\n",
       "      <td>http://www.0-6.com</td>\n",
       "      <td>Curated Web</td>\n",
       "      <td>operating</td>\n",
       "      <td>CHN</td>\n",
       "      <td>22</td>\n",
       "      <td>Beijing</td>\n",
       "      <td>Beijing</td>\n",
       "      <td>01-01-2007</td>\n",
       "    </tr>\n",
       "    <tr>\n",
       "      <th>3</th>\n",
       "      <td>/organization/0ndine-biomedical-inc</td>\n",
       "      <td>/funding-round/954b9499724b946ad8c396a57a5f3b72</td>\n",
       "      <td>venture</td>\n",
       "      <td>NaN</td>\n",
       "      <td>21-12-2009</td>\n",
       "      <td>719491.0</td>\n",
       "      <td>/organization/0ndine-biomedical-inc</td>\n",
       "      <td>Ondine Biomedical Inc.</td>\n",
       "      <td>http://ondinebio.com</td>\n",
       "      <td>Biotechnology</td>\n",
       "      <td>operating</td>\n",
       "      <td>CAN</td>\n",
       "      <td>BC</td>\n",
       "      <td>Vancouver</td>\n",
       "      <td>Vancouver</td>\n",
       "      <td>01-01-1997</td>\n",
       "    </tr>\n",
       "    <tr>\n",
       "      <th>4</th>\n",
       "      <td>/organization/0xdata</td>\n",
       "      <td>/funding-round/3bb2ee4a2d89251a10aaa735b1180e44</td>\n",
       "      <td>venture</td>\n",
       "      <td>B</td>\n",
       "      <td>09-11-2015</td>\n",
       "      <td>20000000.0</td>\n",
       "      <td>/organization/0xdata</td>\n",
       "      <td>H2O.ai</td>\n",
       "      <td>http://h2o.ai/</td>\n",
       "      <td>Analytics</td>\n",
       "      <td>operating</td>\n",
       "      <td>USA</td>\n",
       "      <td>CA</td>\n",
       "      <td>SF Bay Area</td>\n",
       "      <td>Mountain View</td>\n",
       "      <td>01-01-2011</td>\n",
       "    </tr>\n",
       "    <tr>\n",
       "      <th>5</th>\n",
       "      <td>/organization/0xdata</td>\n",
       "      <td>/funding-round/ae2a174c06517c2394aed45006322a7e</td>\n",
       "      <td>venture</td>\n",
       "      <td>NaN</td>\n",
       "      <td>03-01-2013</td>\n",
       "      <td>1700000.0</td>\n",
       "      <td>/organization/0xdata</td>\n",
       "      <td>H2O.ai</td>\n",
       "      <td>http://h2o.ai/</td>\n",
       "      <td>Analytics</td>\n",
       "      <td>operating</td>\n",
       "      <td>USA</td>\n",
       "      <td>CA</td>\n",
       "      <td>SF Bay Area</td>\n",
       "      <td>Mountain View</td>\n",
       "      <td>01-01-2011</td>\n",
       "    </tr>\n",
       "    <tr>\n",
       "      <th>6</th>\n",
       "      <td>/organization/0xdata</td>\n",
       "      <td>/funding-round/e1cfcbe1bdf4c70277c5f29a3482f24e</td>\n",
       "      <td>venture</td>\n",
       "      <td>A</td>\n",
       "      <td>19-07-2014</td>\n",
       "      <td>8900000.0</td>\n",
       "      <td>/organization/0xdata</td>\n",
       "      <td>H2O.ai</td>\n",
       "      <td>http://h2o.ai/</td>\n",
       "      <td>Analytics</td>\n",
       "      <td>operating</td>\n",
       "      <td>USA</td>\n",
       "      <td>CA</td>\n",
       "      <td>SF Bay Area</td>\n",
       "      <td>Mountain View</td>\n",
       "      <td>01-01-2011</td>\n",
       "    </tr>\n",
       "    <tr>\n",
       "      <th>7</th>\n",
       "      <td>/organization/1-mainstream</td>\n",
       "      <td>/funding-round/b952cbaf401f310927430c97b68162ea</td>\n",
       "      <td>venture</td>\n",
       "      <td>NaN</td>\n",
       "      <td>17-03-2015</td>\n",
       "      <td>5000000.0</td>\n",
       "      <td>/organization/1-mainstream</td>\n",
       "      <td>1 Mainstream</td>\n",
       "      <td>http://www.1mainstream.com</td>\n",
       "      <td>Apps|Cable|Distribution|Software</td>\n",
       "      <td>acquired</td>\n",
       "      <td>USA</td>\n",
       "      <td>CA</td>\n",
       "      <td>SF Bay Area</td>\n",
       "      <td>Cupertino</td>\n",
       "      <td>01-03-2012</td>\n",
       "    </tr>\n",
       "    <tr>\n",
       "      <th>8</th>\n",
       "      <td>/organization/10-minutes-with</td>\n",
       "      <td>/funding-round/0faccbbcc5818dc5326469f13f5a8ac8</td>\n",
       "      <td>venture</td>\n",
       "      <td>A</td>\n",
       "      <td>09-10-2014</td>\n",
       "      <td>4000000.0</td>\n",
       "      <td>/organization/10-minutes-with</td>\n",
       "      <td>10 Minutes With</td>\n",
       "      <td>http://10minuteswith.com</td>\n",
       "      <td>Education</td>\n",
       "      <td>operating</td>\n",
       "      <td>GBR</td>\n",
       "      <td>H9</td>\n",
       "      <td>London</td>\n",
       "      <td>London</td>\n",
       "      <td>01-01-2013</td>\n",
       "    </tr>\n",
       "    <tr>\n",
       "      <th>9</th>\n",
       "      <td>/organization/1000memories</td>\n",
       "      <td>/funding-round/502bd0e50c27616995e4bdad24605ef8</td>\n",
       "      <td>venture</td>\n",
       "      <td>A</td>\n",
       "      <td>16-02-2011</td>\n",
       "      <td>2520000.0</td>\n",
       "      <td>/organization/1000memories</td>\n",
       "      <td>1000memories</td>\n",
       "      <td>http://1000memories.com</td>\n",
       "      <td>Curated Web</td>\n",
       "      <td>acquired</td>\n",
       "      <td>USA</td>\n",
       "      <td>CA</td>\n",
       "      <td>SF Bay Area</td>\n",
       "      <td>San Francisco</td>\n",
       "      <td>01-07-2010</td>\n",
       "    </tr>\n",
       "    <tr>\n",
       "      <th>10</th>\n",
       "      <td>/organization/1000museums-com</td>\n",
       "      <td>/funding-round/13be128d655076a025221d7fddc90d68</td>\n",
       "      <td>venture</td>\n",
       "      <td>NaN</td>\n",
       "      <td>14-10-2009</td>\n",
       "      <td>265940.0</td>\n",
       "      <td>/organization/1000museums-com</td>\n",
       "      <td>1000museums.com</td>\n",
       "      <td>http://www.1000museums.com</td>\n",
       "      <td>Curated Web</td>\n",
       "      <td>operating</td>\n",
       "      <td>USA</td>\n",
       "      <td>MA</td>\n",
       "      <td>MA - Other</td>\n",
       "      <td>Lenox</td>\n",
       "      <td>01-01-2008</td>\n",
       "    </tr>\n",
       "    <tr>\n",
       "      <th>11</th>\n",
       "      <td>/organization/1000museums-com</td>\n",
       "      <td>/funding-round/6aeb32ab3fc05db2b606d7a2466e8c09</td>\n",
       "      <td>venture</td>\n",
       "      <td>NaN</td>\n",
       "      <td>15-01-2014</td>\n",
       "      <td>2906832.0</td>\n",
       "      <td>/organization/1000museums-com</td>\n",
       "      <td>1000museums.com</td>\n",
       "      <td>http://www.1000museums.com</td>\n",
       "      <td>Curated Web</td>\n",
       "      <td>operating</td>\n",
       "      <td>USA</td>\n",
       "      <td>MA</td>\n",
       "      <td>MA - Other</td>\n",
       "      <td>Lenox</td>\n",
       "      <td>01-01-2008</td>\n",
       "    </tr>\n",
       "    <tr>\n",
       "      <th>12</th>\n",
       "      <td>/organization/1000museums-com</td>\n",
       "      <td>/funding-round/89317984885b44f02e4befb9dc2e588c</td>\n",
       "      <td>venture</td>\n",
       "      <td>NaN</td>\n",
       "      <td>01-08-2014</td>\n",
       "      <td>1500000.0</td>\n",
       "      <td>/organization/1000museums-com</td>\n",
       "      <td>1000museums.com</td>\n",
       "      <td>http://www.1000museums.com</td>\n",
       "      <td>Curated Web</td>\n",
       "      <td>operating</td>\n",
       "      <td>USA</td>\n",
       "      <td>MA</td>\n",
       "      <td>MA - Other</td>\n",
       "      <td>Lenox</td>\n",
       "      <td>01-01-2008</td>\n",
       "    </tr>\n",
       "    <tr>\n",
       "      <th>13</th>\n",
       "      <td>/organization/1000museums-com</td>\n",
       "      <td>/funding-round/fd1b3064232ba9b3cfb5653a619e82e8</td>\n",
       "      <td>venture</td>\n",
       "      <td>NaN</td>\n",
       "      <td>05-04-2011</td>\n",
       "      <td>642000.0</td>\n",
       "      <td>/organization/1000museums-com</td>\n",
       "      <td>1000museums.com</td>\n",
       "      <td>http://www.1000museums.com</td>\n",
       "      <td>Curated Web</td>\n",
       "      <td>operating</td>\n",
       "      <td>USA</td>\n",
       "      <td>MA</td>\n",
       "      <td>MA - Other</td>\n",
       "      <td>Lenox</td>\n",
       "      <td>01-01-2008</td>\n",
       "    </tr>\n",
       "    <tr>\n",
       "      <th>14</th>\n",
       "      <td>/organization/1001-menus</td>\n",
       "      <td>/funding-round/645b4cd895450b8e0268027cd7813047</td>\n",
       "      <td>venture</td>\n",
       "      <td>B</td>\n",
       "      <td>04-11-2015</td>\n",
       "      <td>6602694.0</td>\n",
       "      <td>/organization/1001-menus</td>\n",
       "      <td>ZenChef</td>\n",
       "      <td>http://zenchef.com/en/</td>\n",
       "      <td>Local Businesses|Restaurants</td>\n",
       "      <td>operating</td>\n",
       "      <td>FRA</td>\n",
       "      <td>A8</td>\n",
       "      <td>Paris</td>\n",
       "      <td>Paris</td>\n",
       "      <td>20-11-2010</td>\n",
       "    </tr>\n",
       "    <tr>\n",
       "      <th>15</th>\n",
       "      <td>/organization/1001-menus</td>\n",
       "      <td>/funding-round/8025123b90c1ab687f9857ffe18bfd3b</td>\n",
       "      <td>venture</td>\n",
       "      <td>A</td>\n",
       "      <td>13-11-2013</td>\n",
       "      <td>1736910.0</td>\n",
       "      <td>/organization/1001-menus</td>\n",
       "      <td>ZenChef</td>\n",
       "      <td>http://zenchef.com/en/</td>\n",
       "      <td>Local Businesses|Restaurants</td>\n",
       "      <td>operating</td>\n",
       "      <td>FRA</td>\n",
       "      <td>A8</td>\n",
       "      <td>Paris</td>\n",
       "      <td>Paris</td>\n",
       "      <td>20-11-2010</td>\n",
       "    </tr>\n",
       "    <tr>\n",
       "      <th>16</th>\n",
       "      <td>/organization/1001-menus</td>\n",
       "      <td>/funding-round/b6c28ea4ebe32db7083052cf87e7c368</td>\n",
       "      <td>venture</td>\n",
       "      <td>A</td>\n",
       "      <td>25-10-2013</td>\n",
       "      <td>1800000.0</td>\n",
       "      <td>/organization/1001-menus</td>\n",
       "      <td>ZenChef</td>\n",
       "      <td>http://zenchef.com/en/</td>\n",
       "      <td>Local Businesses|Restaurants</td>\n",
       "      <td>operating</td>\n",
       "      <td>FRA</td>\n",
       "      <td>A8</td>\n",
       "      <td>Paris</td>\n",
       "      <td>Paris</td>\n",
       "      <td>20-11-2010</td>\n",
       "    </tr>\n",
       "    <tr>\n",
       "      <th>17</th>\n",
       "      <td>/organization/1001pharmacies-com</td>\n",
       "      <td>/funding-round/a21fc4d20200f43e3a25fd9cfc7c1482</td>\n",
       "      <td>venture</td>\n",
       "      <td>A</td>\n",
       "      <td>09-07-2015</td>\n",
       "      <td>8900000.0</td>\n",
       "      <td>/organization/1001pharmacies-com</td>\n",
       "      <td>1001pharmacies.com</td>\n",
       "      <td>http://www.1001pharmacies.com/</td>\n",
       "      <td>Cosmetics|Marketplaces</td>\n",
       "      <td>operating</td>\n",
       "      <td>FRA</td>\n",
       "      <td>A9</td>\n",
       "      <td>Montpellier</td>\n",
       "      <td>Montpellier</td>\n",
       "      <td>01-01-2012</td>\n",
       "    </tr>\n",
       "    <tr>\n",
       "      <th>18</th>\n",
       "      <td>/organization/1006-tv</td>\n",
       "      <td>/funding-round/b6aeb7401ec6993f92a16cbca153b600</td>\n",
       "      <td>venture</td>\n",
       "      <td>B</td>\n",
       "      <td>31-07-2014</td>\n",
       "      <td>10000000.0</td>\n",
       "      <td>/organization/1006-tv</td>\n",
       "      <td>1006.tv</td>\n",
       "      <td>http://www.1006.tv/</td>\n",
       "      <td>Games|Media</td>\n",
       "      <td>operating</td>\n",
       "      <td>CHN</td>\n",
       "      <td>22</td>\n",
       "      <td>Beijing</td>\n",
       "      <td>Beijing</td>\n",
       "      <td>01-01-2009</td>\n",
       "    </tr>\n",
       "    <tr>\n",
       "      <th>19</th>\n",
       "      <td>/organization/100du-tv</td>\n",
       "      <td>/funding-round/8797d60368bb0227f0d0ab4c72aef886</td>\n",
       "      <td>venture</td>\n",
       "      <td>A</td>\n",
       "      <td>07-01-2008</td>\n",
       "      <td>3000000.0</td>\n",
       "      <td>/organization/100du-tv</td>\n",
       "      <td>100du.tv</td>\n",
       "      <td>http://www.100du.com</td>\n",
       "      <td>Hospitality</td>\n",
       "      <td>operating</td>\n",
       "      <td>CHN</td>\n",
       "      <td>23</td>\n",
       "      <td>Shanghai</td>\n",
       "      <td>Shanghai</td>\n",
       "      <td>NaN</td>\n",
       "    </tr>\n",
       "  </tbody>\n",
       "</table>\n",
       "</div>"
      ],
      "text/plain": [
       "                      company_permalink  \\\n",
       "0                   /organization/-fame   \n",
       "1   /organization/-the-one-of-them-inc-   \n",
       "2                 /organization/0-6-com   \n",
       "3   /organization/0ndine-biomedical-inc   \n",
       "4                  /organization/0xdata   \n",
       "5                  /organization/0xdata   \n",
       "6                  /organization/0xdata   \n",
       "7            /organization/1-mainstream   \n",
       "8         /organization/10-minutes-with   \n",
       "9            /organization/1000memories   \n",
       "10        /organization/1000museums-com   \n",
       "11        /organization/1000museums-com   \n",
       "12        /organization/1000museums-com   \n",
       "13        /organization/1000museums-com   \n",
       "14             /organization/1001-menus   \n",
       "15             /organization/1001-menus   \n",
       "16             /organization/1001-menus   \n",
       "17     /organization/1001pharmacies-com   \n",
       "18                /organization/1006-tv   \n",
       "19               /organization/100du-tv   \n",
       "\n",
       "                            funding_round_permalink funding_round_type  \\\n",
       "0   /funding-round/9a01d05418af9f794eebff7ace91f638            venture   \n",
       "1   /funding-round/650b8f704416801069bb178a1418776b            venture   \n",
       "2   /funding-round/5727accaeaa57461bd22a9bdd945382d            venture   \n",
       "3   /funding-round/954b9499724b946ad8c396a57a5f3b72            venture   \n",
       "4   /funding-round/3bb2ee4a2d89251a10aaa735b1180e44            venture   \n",
       "5   /funding-round/ae2a174c06517c2394aed45006322a7e            venture   \n",
       "6   /funding-round/e1cfcbe1bdf4c70277c5f29a3482f24e            venture   \n",
       "7   /funding-round/b952cbaf401f310927430c97b68162ea            venture   \n",
       "8   /funding-round/0faccbbcc5818dc5326469f13f5a8ac8            venture   \n",
       "9   /funding-round/502bd0e50c27616995e4bdad24605ef8            venture   \n",
       "10  /funding-round/13be128d655076a025221d7fddc90d68            venture   \n",
       "11  /funding-round/6aeb32ab3fc05db2b606d7a2466e8c09            venture   \n",
       "12  /funding-round/89317984885b44f02e4befb9dc2e588c            venture   \n",
       "13  /funding-round/fd1b3064232ba9b3cfb5653a619e82e8            venture   \n",
       "14  /funding-round/645b4cd895450b8e0268027cd7813047            venture   \n",
       "15  /funding-round/8025123b90c1ab687f9857ffe18bfd3b            venture   \n",
       "16  /funding-round/b6c28ea4ebe32db7083052cf87e7c368            venture   \n",
       "17  /funding-round/a21fc4d20200f43e3a25fd9cfc7c1482            venture   \n",
       "18  /funding-round/b6aeb7401ec6993f92a16cbca153b600            venture   \n",
       "19  /funding-round/8797d60368bb0227f0d0ab4c72aef886            venture   \n",
       "\n",
       "   funding_round_code   funded_at  raised_amount_usd  \\\n",
       "0                   B  05-01-2015         10000000.0   \n",
       "1                   B  30-01-2014          3406878.0   \n",
       "2                   A  19-03-2008          2000000.0   \n",
       "3                 NaN  21-12-2009           719491.0   \n",
       "4                   B  09-11-2015         20000000.0   \n",
       "5                 NaN  03-01-2013          1700000.0   \n",
       "6                   A  19-07-2014          8900000.0   \n",
       "7                 NaN  17-03-2015          5000000.0   \n",
       "8                   A  09-10-2014          4000000.0   \n",
       "9                   A  16-02-2011          2520000.0   \n",
       "10                NaN  14-10-2009           265940.0   \n",
       "11                NaN  15-01-2014          2906832.0   \n",
       "12                NaN  01-08-2014          1500000.0   \n",
       "13                NaN  05-04-2011           642000.0   \n",
       "14                  B  04-11-2015          6602694.0   \n",
       "15                  A  13-11-2013          1736910.0   \n",
       "16                  A  25-10-2013          1800000.0   \n",
       "17                  A  09-07-2015          8900000.0   \n",
       "18                  B  31-07-2014         10000000.0   \n",
       "19                  A  07-01-2008          3000000.0   \n",
       "\n",
       "                              permalink                    name  \\\n",
       "0                   /organization/-fame                   #fame   \n",
       "1   /organization/-the-one-of-them-inc-  (THE) ONE of THEM,Inc.   \n",
       "2                 /organization/0-6-com                 0-6.com   \n",
       "3   /organization/0ndine-biomedical-inc  Ondine Biomedical Inc.   \n",
       "4                  /organization/0xdata                  H2O.ai   \n",
       "5                  /organization/0xdata                  H2O.ai   \n",
       "6                  /organization/0xdata                  H2O.ai   \n",
       "7            /organization/1-mainstream            1 Mainstream   \n",
       "8         /organization/10-minutes-with         10 Minutes With   \n",
       "9            /organization/1000memories            1000memories   \n",
       "10        /organization/1000museums-com         1000museums.com   \n",
       "11        /organization/1000museums-com         1000museums.com   \n",
       "12        /organization/1000museums-com         1000museums.com   \n",
       "13        /organization/1000museums-com         1000museums.com   \n",
       "14             /organization/1001-menus                 ZenChef   \n",
       "15             /organization/1001-menus                 ZenChef   \n",
       "16             /organization/1001-menus                 ZenChef   \n",
       "17     /organization/1001pharmacies-com      1001pharmacies.com   \n",
       "18                /organization/1006-tv                 1006.tv   \n",
       "19               /organization/100du-tv                100du.tv   \n",
       "\n",
       "                      homepage_url                     category_list  \\\n",
       "0               http://livfame.com                             Media   \n",
       "1              http://oneofthem.jp                 Apps|Games|Mobile   \n",
       "2               http://www.0-6.com                       Curated Web   \n",
       "3             http://ondinebio.com                     Biotechnology   \n",
       "4                   http://h2o.ai/                         Analytics   \n",
       "5                   http://h2o.ai/                         Analytics   \n",
       "6                   http://h2o.ai/                         Analytics   \n",
       "7       http://www.1mainstream.com  Apps|Cable|Distribution|Software   \n",
       "8         http://10minuteswith.com                         Education   \n",
       "9          http://1000memories.com                       Curated Web   \n",
       "10      http://www.1000museums.com                       Curated Web   \n",
       "11      http://www.1000museums.com                       Curated Web   \n",
       "12      http://www.1000museums.com                       Curated Web   \n",
       "13      http://www.1000museums.com                       Curated Web   \n",
       "14          http://zenchef.com/en/      Local Businesses|Restaurants   \n",
       "15          http://zenchef.com/en/      Local Businesses|Restaurants   \n",
       "16          http://zenchef.com/en/      Local Businesses|Restaurants   \n",
       "17  http://www.1001pharmacies.com/            Cosmetics|Marketplaces   \n",
       "18             http://www.1006.tv/                       Games|Media   \n",
       "19            http://www.100du.com                       Hospitality   \n",
       "\n",
       "       status country_code state_code       region           city  founded_at  \n",
       "0   operating          IND         16       Mumbai         Mumbai         NaN  \n",
       "1   operating          NaN        NaN          NaN            NaN         NaN  \n",
       "2   operating          CHN         22      Beijing        Beijing  01-01-2007  \n",
       "3   operating          CAN         BC    Vancouver      Vancouver  01-01-1997  \n",
       "4   operating          USA         CA  SF Bay Area  Mountain View  01-01-2011  \n",
       "5   operating          USA         CA  SF Bay Area  Mountain View  01-01-2011  \n",
       "6   operating          USA         CA  SF Bay Area  Mountain View  01-01-2011  \n",
       "7    acquired          USA         CA  SF Bay Area      Cupertino  01-03-2012  \n",
       "8   operating          GBR         H9       London         London  01-01-2013  \n",
       "9    acquired          USA         CA  SF Bay Area  San Francisco  01-07-2010  \n",
       "10  operating          USA         MA   MA - Other          Lenox  01-01-2008  \n",
       "11  operating          USA         MA   MA - Other          Lenox  01-01-2008  \n",
       "12  operating          USA         MA   MA - Other          Lenox  01-01-2008  \n",
       "13  operating          USA         MA   MA - Other          Lenox  01-01-2008  \n",
       "14  operating          FRA         A8        Paris          Paris  20-11-2010  \n",
       "15  operating          FRA         A8        Paris          Paris  20-11-2010  \n",
       "16  operating          FRA         A8        Paris          Paris  20-11-2010  \n",
       "17  operating          FRA         A9  Montpellier    Montpellier  01-01-2012  \n",
       "18  operating          CHN         22      Beijing        Beijing  01-01-2009  \n",
       "19  operating          CHN         23     Shanghai       Shanghai         NaN  "
      ]
     },
     "execution_count": 89,
     "metadata": {},
     "output_type": "execute_result"
    }
   ],
   "source": [
    "master_frame_2.head(20)"
   ]
  },
  {
   "cell_type": "code",
   "execution_count": 90,
   "metadata": {
    "collapsed": true
   },
   "outputs": [],
   "source": [
    "country = master_frame_2.groupby([\"country_code\"])[\"raised_amount_usd\"].sum().sort_values(ascending=False).head(9)"
   ]
  },
  {
   "cell_type": "code",
   "execution_count": 91,
   "metadata": {},
   "outputs": [
    {
     "data": {
      "text/plain": [
       "country_code\n",
       "USA    2.632680e+11\n",
       "GBR    1.522110e+10\n",
       "CHN    1.235350e+10\n",
       "CAN    9.278789e+09\n",
       "IND    8.274541e+09\n",
       "ISR    6.507577e+09\n",
       "FRA    5.598663e+09\n",
       "DEU    4.459986e+09\n",
       "CHE    2.255774e+09\n",
       "Name: raised_amount_usd, dtype: float64"
      ]
     },
     "execution_count": 91,
     "metadata": {},
     "output_type": "execute_result"
    }
   ],
   "source": [
    "country.head(9)"
   ]
  },
  {
   "cell_type": "code",
   "execution_count": 92,
   "metadata": {},
   "outputs": [
    {
     "data": {
      "text/plain": [
       "country_code\n",
       "USA    2.158499e+11\n",
       "GBR    1.142338e+10\n",
       "CHN    1.049235e+10\n",
       "CAN    6.756630e+09\n",
       "IND    5.654659e+09\n",
       "ISR    5.393015e+09\n",
       "FRA    4.818086e+09\n",
       "DEU    3.539403e+09\n",
       "CHE    1.580647e+09\n",
       "Name: raised_amount_usd, dtype: float64"
      ]
     },
     "execution_count": 92,
     "metadata": {},
     "output_type": "execute_result"
    }
   ],
   "source": [
    "top9 = master_frame_venture.groupby([\"country_code\"])[\"raised_amount_usd\"].sum().sort_values(ascending=False).head(9)\n",
    "top9.head(9)"
   ]
  },
  {
   "cell_type": "markdown",
   "metadata": {},
   "source": [
    "# CHECKPOINT 4"
   ]
  },
  {
   "cell_type": "code",
   "execution_count": 93,
   "metadata": {
    "collapsed": true
   },
   "outputs": [],
   "source": [
    "mapping = pd.read_csv(\"mapping.csv\")"
   ]
  },
  {
   "cell_type": "code",
   "execution_count": 94,
   "metadata": {},
   "outputs": [
    {
     "data": {
      "text/html": [
       "<div>\n",
       "<style scoped>\n",
       "    .dataframe tbody tr th:only-of-type {\n",
       "        vertical-align: middle;\n",
       "    }\n",
       "\n",
       "    .dataframe tbody tr th {\n",
       "        vertical-align: top;\n",
       "    }\n",
       "\n",
       "    .dataframe thead th {\n",
       "        text-align: right;\n",
       "    }\n",
       "</style>\n",
       "<table border=\"1\" class=\"dataframe\">\n",
       "  <thead>\n",
       "    <tr style=\"text-align: right;\">\n",
       "      <th></th>\n",
       "      <th>category_list</th>\n",
       "      <th>Automotive &amp; Sports</th>\n",
       "      <th>Blanks</th>\n",
       "      <th>Cleantech / Semiconductors</th>\n",
       "      <th>Entertainment</th>\n",
       "      <th>Health</th>\n",
       "      <th>Manufacturing</th>\n",
       "      <th>News, Search and Messaging</th>\n",
       "      <th>Others</th>\n",
       "      <th>Social, Finance, Analytics, Advertising</th>\n",
       "    </tr>\n",
       "  </thead>\n",
       "  <tbody>\n",
       "    <tr>\n",
       "      <th>678</th>\n",
       "      <td>Web Design</td>\n",
       "      <td>0</td>\n",
       "      <td>0</td>\n",
       "      <td>0</td>\n",
       "      <td>0</td>\n",
       "      <td>0</td>\n",
       "      <td>0</td>\n",
       "      <td>1</td>\n",
       "      <td>0</td>\n",
       "      <td>0</td>\n",
       "    </tr>\n",
       "    <tr>\n",
       "      <th>679</th>\n",
       "      <td>Web Development</td>\n",
       "      <td>0</td>\n",
       "      <td>0</td>\n",
       "      <td>0</td>\n",
       "      <td>0</td>\n",
       "      <td>0</td>\n",
       "      <td>0</td>\n",
       "      <td>0</td>\n",
       "      <td>1</td>\n",
       "      <td>0</td>\n",
       "    </tr>\n",
       "    <tr>\n",
       "      <th>680</th>\n",
       "      <td>Web Hosting</td>\n",
       "      <td>0</td>\n",
       "      <td>0</td>\n",
       "      <td>0</td>\n",
       "      <td>0</td>\n",
       "      <td>0</td>\n",
       "      <td>0</td>\n",
       "      <td>0</td>\n",
       "      <td>1</td>\n",
       "      <td>0</td>\n",
       "    </tr>\n",
       "    <tr>\n",
       "      <th>681</th>\n",
       "      <td>Web Tools</td>\n",
       "      <td>0</td>\n",
       "      <td>0</td>\n",
       "      <td>0</td>\n",
       "      <td>0</td>\n",
       "      <td>0</td>\n",
       "      <td>0</td>\n",
       "      <td>0</td>\n",
       "      <td>1</td>\n",
       "      <td>0</td>\n",
       "    </tr>\n",
       "    <tr>\n",
       "      <th>682</th>\n",
       "      <td>Weddings</td>\n",
       "      <td>0</td>\n",
       "      <td>0</td>\n",
       "      <td>0</td>\n",
       "      <td>1</td>\n",
       "      <td>0</td>\n",
       "      <td>0</td>\n",
       "      <td>0</td>\n",
       "      <td>0</td>\n",
       "      <td>0</td>\n",
       "    </tr>\n",
       "    <tr>\n",
       "      <th>683</th>\n",
       "      <td>Wholesale</td>\n",
       "      <td>0</td>\n",
       "      <td>0</td>\n",
       "      <td>0</td>\n",
       "      <td>0</td>\n",
       "      <td>0</td>\n",
       "      <td>0</td>\n",
       "      <td>0</td>\n",
       "      <td>1</td>\n",
       "      <td>0</td>\n",
       "    </tr>\n",
       "    <tr>\n",
       "      <th>684</th>\n",
       "      <td>Wine And Spirits</td>\n",
       "      <td>0</td>\n",
       "      <td>0</td>\n",
       "      <td>0</td>\n",
       "      <td>1</td>\n",
       "      <td>0</td>\n",
       "      <td>0</td>\n",
       "      <td>0</td>\n",
       "      <td>0</td>\n",
       "      <td>0</td>\n",
       "    </tr>\n",
       "    <tr>\n",
       "      <th>685</th>\n",
       "      <td>Wireless</td>\n",
       "      <td>0</td>\n",
       "      <td>0</td>\n",
       "      <td>0</td>\n",
       "      <td>1</td>\n",
       "      <td>0</td>\n",
       "      <td>0</td>\n",
       "      <td>0</td>\n",
       "      <td>0</td>\n",
       "      <td>0</td>\n",
       "    </tr>\n",
       "    <tr>\n",
       "      <th>686</th>\n",
       "      <td>Women</td>\n",
       "      <td>0</td>\n",
       "      <td>0</td>\n",
       "      <td>0</td>\n",
       "      <td>0</td>\n",
       "      <td>0</td>\n",
       "      <td>0</td>\n",
       "      <td>0</td>\n",
       "      <td>1</td>\n",
       "      <td>0</td>\n",
       "    </tr>\n",
       "    <tr>\n",
       "      <th>687</th>\n",
       "      <td>Young Adults</td>\n",
       "      <td>0</td>\n",
       "      <td>0</td>\n",
       "      <td>0</td>\n",
       "      <td>0</td>\n",
       "      <td>0</td>\n",
       "      <td>0</td>\n",
       "      <td>0</td>\n",
       "      <td>1</td>\n",
       "      <td>0</td>\n",
       "    </tr>\n",
       "  </tbody>\n",
       "</table>\n",
       "</div>"
      ],
      "text/plain": [
       "        category_list  Automotive & Sports  Blanks  \\\n",
       "678        Web Design                    0       0   \n",
       "679   Web Development                    0       0   \n",
       "680       Web Hosting                    0       0   \n",
       "681         Web Tools                    0       0   \n",
       "682          Weddings                    0       0   \n",
       "683         Wholesale                    0       0   \n",
       "684  Wine And Spirits                    0       0   \n",
       "685          Wireless                    0       0   \n",
       "686             Women                    0       0   \n",
       "687      Young Adults                    0       0   \n",
       "\n",
       "     Cleantech / Semiconductors  Entertainment  Health  Manufacturing  \\\n",
       "678                           0              0       0              0   \n",
       "679                           0              0       0              0   \n",
       "680                           0              0       0              0   \n",
       "681                           0              0       0              0   \n",
       "682                           0              1       0              0   \n",
       "683                           0              0       0              0   \n",
       "684                           0              1       0              0   \n",
       "685                           0              1       0              0   \n",
       "686                           0              0       0              0   \n",
       "687                           0              0       0              0   \n",
       "\n",
       "     News, Search and Messaging  Others  \\\n",
       "678                           1       0   \n",
       "679                           0       1   \n",
       "680                           0       1   \n",
       "681                           0       1   \n",
       "682                           0       0   \n",
       "683                           0       1   \n",
       "684                           0       0   \n",
       "685                           0       0   \n",
       "686                           0       1   \n",
       "687                           0       1   \n",
       "\n",
       "     Social, Finance, Analytics, Advertising  \n",
       "678                                        0  \n",
       "679                                        0  \n",
       "680                                        0  \n",
       "681                                        0  \n",
       "682                                        0  \n",
       "683                                        0  \n",
       "684                                        0  \n",
       "685                                        0  \n",
       "686                                        0  \n",
       "687                                        0  "
      ]
     },
     "execution_count": 94,
     "metadata": {},
     "output_type": "execute_result"
    }
   ],
   "source": [
    "mapping.tail(10)"
   ]
  },
  {
   "cell_type": "code",
   "execution_count": 101,
   "metadata": {},
   "outputs": [
    {
     "data": {
      "text/html": [
       "<div>\n",
       "<style scoped>\n",
       "    .dataframe tbody tr th:only-of-type {\n",
       "        vertical-align: middle;\n",
       "    }\n",
       "\n",
       "    .dataframe tbody tr th {\n",
       "        vertical-align: top;\n",
       "    }\n",
       "\n",
       "    .dataframe thead th {\n",
       "        text-align: right;\n",
       "    }\n",
       "</style>\n",
       "<table border=\"1\" class=\"dataframe\">\n",
       "  <thead>\n",
       "    <tr style=\"text-align: right;\">\n",
       "      <th></th>\n",
       "      <th>Automotive &amp; Sports</th>\n",
       "      <th>Blanks</th>\n",
       "      <th>Cleantech / Semiconductors</th>\n",
       "      <th>Entertainment</th>\n",
       "      <th>Health</th>\n",
       "      <th>Manufacturing</th>\n",
       "      <th>News, Search and Messaging</th>\n",
       "      <th>Others</th>\n",
       "      <th>Social, Finance, Analytics, Advertising</th>\n",
       "    </tr>\n",
       "  </thead>\n",
       "  <tbody>\n",
       "    <tr>\n",
       "      <th>count</th>\n",
       "      <td>688.000000</td>\n",
       "      <td>688.000000</td>\n",
       "      <td>688.000000</td>\n",
       "      <td>688.000000</td>\n",
       "      <td>688.000000</td>\n",
       "      <td>688.000000</td>\n",
       "      <td>688.000000</td>\n",
       "      <td>688.000000</td>\n",
       "      <td>688.000000</td>\n",
       "    </tr>\n",
       "    <tr>\n",
       "      <th>mean</th>\n",
       "      <td>0.031977</td>\n",
       "      <td>0.001453</td>\n",
       "      <td>0.077035</td>\n",
       "      <td>0.129360</td>\n",
       "      <td>0.091570</td>\n",
       "      <td>0.058140</td>\n",
       "      <td>0.104651</td>\n",
       "      <td>0.283430</td>\n",
       "      <td>0.222384</td>\n",
       "    </tr>\n",
       "    <tr>\n",
       "      <th>std</th>\n",
       "      <td>0.176066</td>\n",
       "      <td>0.038125</td>\n",
       "      <td>0.266841</td>\n",
       "      <td>0.335843</td>\n",
       "      <td>0.288627</td>\n",
       "      <td>0.234177</td>\n",
       "      <td>0.306326</td>\n",
       "      <td>0.450991</td>\n",
       "      <td>0.416150</td>\n",
       "    </tr>\n",
       "    <tr>\n",
       "      <th>min</th>\n",
       "      <td>0.000000</td>\n",
       "      <td>0.000000</td>\n",
       "      <td>0.000000</td>\n",
       "      <td>0.000000</td>\n",
       "      <td>0.000000</td>\n",
       "      <td>0.000000</td>\n",
       "      <td>0.000000</td>\n",
       "      <td>0.000000</td>\n",
       "      <td>0.000000</td>\n",
       "    </tr>\n",
       "    <tr>\n",
       "      <th>25%</th>\n",
       "      <td>0.000000</td>\n",
       "      <td>0.000000</td>\n",
       "      <td>0.000000</td>\n",
       "      <td>0.000000</td>\n",
       "      <td>0.000000</td>\n",
       "      <td>0.000000</td>\n",
       "      <td>0.000000</td>\n",
       "      <td>0.000000</td>\n",
       "      <td>0.000000</td>\n",
       "    </tr>\n",
       "    <tr>\n",
       "      <th>50%</th>\n",
       "      <td>0.000000</td>\n",
       "      <td>0.000000</td>\n",
       "      <td>0.000000</td>\n",
       "      <td>0.000000</td>\n",
       "      <td>0.000000</td>\n",
       "      <td>0.000000</td>\n",
       "      <td>0.000000</td>\n",
       "      <td>0.000000</td>\n",
       "      <td>0.000000</td>\n",
       "    </tr>\n",
       "    <tr>\n",
       "      <th>75%</th>\n",
       "      <td>0.000000</td>\n",
       "      <td>0.000000</td>\n",
       "      <td>0.000000</td>\n",
       "      <td>0.000000</td>\n",
       "      <td>0.000000</td>\n",
       "      <td>0.000000</td>\n",
       "      <td>0.000000</td>\n",
       "      <td>1.000000</td>\n",
       "      <td>0.000000</td>\n",
       "    </tr>\n",
       "    <tr>\n",
       "      <th>max</th>\n",
       "      <td>1.000000</td>\n",
       "      <td>1.000000</td>\n",
       "      <td>1.000000</td>\n",
       "      <td>1.000000</td>\n",
       "      <td>1.000000</td>\n",
       "      <td>1.000000</td>\n",
       "      <td>1.000000</td>\n",
       "      <td>1.000000</td>\n",
       "      <td>1.000000</td>\n",
       "    </tr>\n",
       "  </tbody>\n",
       "</table>\n",
       "</div>"
      ],
      "text/plain": [
       "       Automotive & Sports      Blanks  Cleantech / Semiconductors  \\\n",
       "count           688.000000  688.000000                  688.000000   \n",
       "mean              0.031977    0.001453                    0.077035   \n",
       "std               0.176066    0.038125                    0.266841   \n",
       "min               0.000000    0.000000                    0.000000   \n",
       "25%               0.000000    0.000000                    0.000000   \n",
       "50%               0.000000    0.000000                    0.000000   \n",
       "75%               0.000000    0.000000                    0.000000   \n",
       "max               1.000000    1.000000                    1.000000   \n",
       "\n",
       "       Entertainment      Health  Manufacturing  News, Search and Messaging  \\\n",
       "count     688.000000  688.000000     688.000000                  688.000000   \n",
       "mean        0.129360    0.091570       0.058140                    0.104651   \n",
       "std         0.335843    0.288627       0.234177                    0.306326   \n",
       "min         0.000000    0.000000       0.000000                    0.000000   \n",
       "25%         0.000000    0.000000       0.000000                    0.000000   \n",
       "50%         0.000000    0.000000       0.000000                    0.000000   \n",
       "75%         0.000000    0.000000       0.000000                    0.000000   \n",
       "max         1.000000    1.000000       1.000000                    1.000000   \n",
       "\n",
       "           Others  Social, Finance, Analytics, Advertising  \n",
       "count  688.000000                               688.000000  \n",
       "mean     0.283430                                 0.222384  \n",
       "std      0.450991                                 0.416150  \n",
       "min      0.000000                                 0.000000  \n",
       "25%      0.000000                                 0.000000  \n",
       "50%      0.000000                                 0.000000  \n",
       "75%      1.000000                                 0.000000  \n",
       "max      1.000000                                 1.000000  "
      ]
     },
     "execution_count": 101,
     "metadata": {},
     "output_type": "execute_result"
    }
   ],
   "source": [
    "#cleaning mapping file\n",
    "mapping[\"category_list\"] = mapping[\"category_list\"].astype(str)\n",
    "#replacing 0 with na\n",
    "def installs_fun(val):\n",
    "    return str(val.replace(\"0\",\"na\"))\n",
    "mapping[\"category_list\"] = mapping[\"category_list\"].apply(installs_fun)\n",
    "\n",
    "#natural with Natural\n",
    "def installs_fun_1(val):\n",
    "    return str(val.replace(\"natural\",\"Natural\"))\n",
    "mapping[\"category_list\"] = mapping[\"category_list\"].apply(installs_fun_1)\n",
    "\n",
    "#nanotechnology with Nanotechnology\n",
    "def installs_fun_2(val):\n",
    "    return str(val.replace(\"nanotechnology\",\"Nanotechnology\"))\n",
    "mapping[\"category_list\"] = mapping[\"category_list\"].apply(installs_fun_2)\n",
    "\n",
    "#navigation with Navigation\n",
    "def installs_fun_3(val):\n",
    "    return str(val.replace(\"navigation\",\"Navigation\"))\n",
    "mapping[\"category_list\"] = mapping[\"category_list\"].apply(installs_fun_3)\n",
    "\n",
    "#2.na with 2.0\n",
    "def installs_fun_4(val):\n",
    "    return str(val.replace(\"2.na\",\"2.0\"))\n",
    "mapping[\"category_list\"] = mapping[\"category_list\"].apply(installs_fun_4)\n",
    "\n",
    "mapping.describe()"
   ]
  },
  {
   "cell_type": "code",
   "execution_count": 102,
   "metadata": {},
   "outputs": [
    {
     "data": {
      "text/plain": [
       "114880                         Hardware|Hardware + Software\n",
       "114881                         Hardware|Hardware + Software\n",
       "114886                                        Biotechnology\n",
       "114889                                        Biotechnology\n",
       "114890                                        Biotechnology\n",
       "114891                                        Biotechnology\n",
       "114892                                        Biotechnology\n",
       "114893                                        Biotechnology\n",
       "114894                                        Biotechnology\n",
       "114900                   Crowdsourcing|Knowledge Management\n",
       "114902    Cloud Computing|Enterprise 2.0|Enterprise Soft...\n",
       "114903    Cloud Computing|Enterprise 2.0|Enterprise Soft...\n",
       "114904                                      Pharmaceuticals\n",
       "114906    Facebook Applications|Games|Networking|Technology\n",
       "114907    Facebook Applications|Games|Networking|Technology\n",
       "114908    Facebook Applications|Games|Networking|Technology\n",
       "114909    Facebook Applications|Games|Networking|Technology\n",
       "114910    Facebook Applications|Games|Networking|Technology\n",
       "114914    Facebook Applications|Games|Networking|Technology\n",
       "114915                                        Biotechnology\n",
       "114916                                             Software\n",
       "114917                                             Software\n",
       "114920                                        Biotechnology\n",
       "114922                                        Biotechnology\n",
       "114923                                        Biotechnology\n",
       "114931                                        Biotechnology\n",
       "114934                                           E-Commerce\n",
       "114936                                        Biotechnology\n",
       "114937                                        Biotechnology\n",
       "114941                                  Enterprise Software\n",
       "Name: category_list, dtype: object"
      ]
     },
     "execution_count": 102,
     "metadata": {},
     "output_type": "execute_result"
    }
   ],
   "source": [
    "master_frame_venture[\"category_list\"].tail(30)"
   ]
  },
  {
   "cell_type": "code",
   "execution_count": 103,
   "metadata": {
    "collapsed": true
   },
   "outputs": [],
   "source": [
    "master_frame_venture[\"category_list\"] = master_frame_venture[\"category_list\"].astype(str)\n",
    "master_frame_venture[\"primary_sector\"] = master_frame_venture[\"category_list\"].apply(lambda x:x.split(\"|\")[0])"
   ]
  },
  {
   "cell_type": "code",
   "execution_count": 104,
   "metadata": {},
   "outputs": [
    {
     "data": {
      "text/plain": [
       "114880                 Hardware\n",
       "114881                 Hardware\n",
       "114886            Biotechnology\n",
       "114889            Biotechnology\n",
       "114890            Biotechnology\n",
       "114891            Biotechnology\n",
       "114892            Biotechnology\n",
       "114893            Biotechnology\n",
       "114894            Biotechnology\n",
       "114900            Crowdsourcing\n",
       "114902          Cloud Computing\n",
       "114903          Cloud Computing\n",
       "114904          Pharmaceuticals\n",
       "114906    Facebook Applications\n",
       "114907    Facebook Applications\n",
       "114908    Facebook Applications\n",
       "114909    Facebook Applications\n",
       "114910    Facebook Applications\n",
       "114914    Facebook Applications\n",
       "114915            Biotechnology\n",
       "114916                 Software\n",
       "114917                 Software\n",
       "114920            Biotechnology\n",
       "114922            Biotechnology\n",
       "114923            Biotechnology\n",
       "114931            Biotechnology\n",
       "114934               E-Commerce\n",
       "114936            Biotechnology\n",
       "114937            Biotechnology\n",
       "114941      Enterprise Software\n",
       "Name: primary_sector, dtype: object"
      ]
     },
     "execution_count": 104,
     "metadata": {},
     "output_type": "execute_result"
    }
   ],
   "source": [
    "master_frame_venture[\"primary_sector\"].tail(30)"
   ]
  },
  {
   "cell_type": "code",
   "execution_count": 105,
   "metadata": {},
   "outputs": [
    {
     "data": {
      "text/plain": [
       "(45904, 17)"
      ]
     },
     "execution_count": 105,
     "metadata": {},
     "output_type": "execute_result"
    }
   ],
   "source": [
    "master_frame_venture.shape"
   ]
  },
  {
   "cell_type": "code",
   "execution_count": 106,
   "metadata": {
    "collapsed": true
   },
   "outputs": [],
   "source": [
    "x=mapping.iloc[:,1:]"
   ]
  },
  {
   "cell_type": "code",
   "execution_count": 107,
   "metadata": {
    "collapsed": true
   },
   "outputs": [],
   "source": [
    "x=x.idxmax(axis=1)"
   ]
  },
  {
   "cell_type": "code",
   "execution_count": 108,
   "metadata": {},
   "outputs": [
    {
     "name": "stdout",
     "output_type": "stream",
     "text": [
      "0                                       Blanks\n",
      "1                                Manufacturing\n",
      "2                                Manufacturing\n",
      "3                                Manufacturing\n",
      "4      Social, Finance, Analytics, Advertising\n",
      "                        ...                   \n",
      "683                                     Others\n",
      "684                              Entertainment\n",
      "685                              Entertainment\n",
      "686                                     Others\n",
      "687                                     Others\n",
      "Length: 688, dtype: object\n"
     ]
    }
   ],
   "source": [
    "print(x)"
   ]
  },
  {
   "cell_type": "code",
   "execution_count": 109,
   "metadata": {},
   "outputs": [
    {
     "name": "stdout",
     "output_type": "stream",
     "text": [
      "0                   nan\n",
      "1                    3D\n",
      "2           3D Printing\n",
      "3         3D Technology\n",
      "4            Accounting\n",
      "             ...       \n",
      "683           Wholesale\n",
      "684    Wine And Spirits\n",
      "685            Wireless\n",
      "686               Women\n",
      "687        Young Adults\n",
      "Name: category_list, Length: 688, dtype: object\n"
     ]
    }
   ],
   "source": [
    "y=mapping.iloc[:,0]\n",
    "print(y)"
   ]
  },
  {
   "cell_type": "code",
   "execution_count": 110,
   "metadata": {
    "collapsed": true
   },
   "outputs": [],
   "source": [
    "# initialize list of lists \n",
    "mapping_sector = pd.DataFrame(columns = ['primary_sector', 'main_sector'])\n",
    "mapping_sector[\"primary_sector\"]  = y\n",
    "mapping_sector[\"main_sector\"] = x"
   ]
  },
  {
   "cell_type": "code",
   "execution_count": 111,
   "metadata": {},
   "outputs": [
    {
     "data": {
      "text/html": [
       "<div>\n",
       "<style scoped>\n",
       "    .dataframe tbody tr th:only-of-type {\n",
       "        vertical-align: middle;\n",
       "    }\n",
       "\n",
       "    .dataframe tbody tr th {\n",
       "        vertical-align: top;\n",
       "    }\n",
       "\n",
       "    .dataframe thead th {\n",
       "        text-align: right;\n",
       "    }\n",
       "</style>\n",
       "<table border=\"1\" class=\"dataframe\">\n",
       "  <thead>\n",
       "    <tr style=\"text-align: right;\">\n",
       "      <th></th>\n",
       "      <th>primary_sector</th>\n",
       "      <th>main_sector</th>\n",
       "    </tr>\n",
       "  </thead>\n",
       "  <tbody>\n",
       "    <tr>\n",
       "      <th>668</th>\n",
       "      <td>Video on Demand</td>\n",
       "      <td>Entertainment</td>\n",
       "    </tr>\n",
       "    <tr>\n",
       "      <th>669</th>\n",
       "      <td>Video Streaming</td>\n",
       "      <td>Entertainment</td>\n",
       "    </tr>\n",
       "    <tr>\n",
       "      <th>670</th>\n",
       "      <td>Virtual Workforces</td>\n",
       "      <td>Entertainment</td>\n",
       "    </tr>\n",
       "    <tr>\n",
       "      <th>671</th>\n",
       "      <td>VoIP</td>\n",
       "      <td>Entertainment</td>\n",
       "    </tr>\n",
       "    <tr>\n",
       "      <th>672</th>\n",
       "      <td>Waste Management</td>\n",
       "      <td>Cleantech / Semiconductors</td>\n",
       "    </tr>\n",
       "    <tr>\n",
       "      <th>673</th>\n",
       "      <td>Watch</td>\n",
       "      <td>Others</td>\n",
       "    </tr>\n",
       "    <tr>\n",
       "      <th>674</th>\n",
       "      <td>Water</td>\n",
       "      <td>Cleantech / Semiconductors</td>\n",
       "    </tr>\n",
       "    <tr>\n",
       "      <th>675</th>\n",
       "      <td>Water Purification</td>\n",
       "      <td>Cleantech / Semiconductors</td>\n",
       "    </tr>\n",
       "    <tr>\n",
       "      <th>676</th>\n",
       "      <td>Wearables</td>\n",
       "      <td>Cleantech / Semiconductors</td>\n",
       "    </tr>\n",
       "    <tr>\n",
       "      <th>677</th>\n",
       "      <td>Web Browsers</td>\n",
       "      <td>News, Search and Messaging</td>\n",
       "    </tr>\n",
       "    <tr>\n",
       "      <th>678</th>\n",
       "      <td>Web Design</td>\n",
       "      <td>News, Search and Messaging</td>\n",
       "    </tr>\n",
       "    <tr>\n",
       "      <th>679</th>\n",
       "      <td>Web Development</td>\n",
       "      <td>Others</td>\n",
       "    </tr>\n",
       "    <tr>\n",
       "      <th>680</th>\n",
       "      <td>Web Hosting</td>\n",
       "      <td>Others</td>\n",
       "    </tr>\n",
       "    <tr>\n",
       "      <th>681</th>\n",
       "      <td>Web Tools</td>\n",
       "      <td>Others</td>\n",
       "    </tr>\n",
       "    <tr>\n",
       "      <th>682</th>\n",
       "      <td>Weddings</td>\n",
       "      <td>Entertainment</td>\n",
       "    </tr>\n",
       "    <tr>\n",
       "      <th>683</th>\n",
       "      <td>Wholesale</td>\n",
       "      <td>Others</td>\n",
       "    </tr>\n",
       "    <tr>\n",
       "      <th>684</th>\n",
       "      <td>Wine And Spirits</td>\n",
       "      <td>Entertainment</td>\n",
       "    </tr>\n",
       "    <tr>\n",
       "      <th>685</th>\n",
       "      <td>Wireless</td>\n",
       "      <td>Entertainment</td>\n",
       "    </tr>\n",
       "    <tr>\n",
       "      <th>686</th>\n",
       "      <td>Women</td>\n",
       "      <td>Others</td>\n",
       "    </tr>\n",
       "    <tr>\n",
       "      <th>687</th>\n",
       "      <td>Young Adults</td>\n",
       "      <td>Others</td>\n",
       "    </tr>\n",
       "  </tbody>\n",
       "</table>\n",
       "</div>"
      ],
      "text/plain": [
       "         primary_sector                 main_sector\n",
       "668     Video on Demand               Entertainment\n",
       "669     Video Streaming               Entertainment\n",
       "670  Virtual Workforces               Entertainment\n",
       "671                VoIP               Entertainment\n",
       "672    Waste Management  Cleantech / Semiconductors\n",
       "673               Watch                      Others\n",
       "674               Water  Cleantech / Semiconductors\n",
       "675  Water Purification  Cleantech / Semiconductors\n",
       "676           Wearables  Cleantech / Semiconductors\n",
       "677        Web Browsers  News, Search and Messaging\n",
       "678          Web Design  News, Search and Messaging\n",
       "679     Web Development                      Others\n",
       "680         Web Hosting                      Others\n",
       "681           Web Tools                      Others\n",
       "682            Weddings               Entertainment\n",
       "683           Wholesale                      Others\n",
       "684    Wine And Spirits               Entertainment\n",
       "685            Wireless               Entertainment\n",
       "686               Women                      Others\n",
       "687        Young Adults                      Others"
      ]
     },
     "execution_count": 111,
     "metadata": {},
     "output_type": "execute_result"
    }
   ],
   "source": [
    "mapping_sector.tail(20)"
   ]
  },
  {
   "cell_type": "code",
   "execution_count": 115,
   "metadata": {},
   "outputs": [
    {
     "data": {
      "text/plain": [
       "(46003, 18)"
      ]
     },
     "execution_count": 115,
     "metadata": {},
     "output_type": "execute_result"
    }
   ],
   "source": [
    "master_frame_venture_mainsec = pd.merge(master_frame_venture, mapping_sector, on='primary_sector', how='outer')\n",
    "master_frame_venture_mainsec.shape"
   ]
  },
  {
   "cell_type": "markdown",
   "metadata": {},
   "source": [
    "# CHECKPOINT 5"
   ]
  },
  {
   "cell_type": "code",
   "execution_count": 113,
   "metadata": {
    "collapsed": true
   },
   "outputs": [],
   "source": [
    "#the range of funding preferred by Spark Funds is 5 to 15 million USD\n",
    "mf = master_frame_venture_mainsec[(master_frame_venture_mainsec[\"raised_amount_usd\"] <= 15000000.0) & (master_frame_venture_mainsec[\"raised_amount_usd\"] >= 5000000.0)]"
   ]
  },
  {
   "cell_type": "code",
   "execution_count": 114,
   "metadata": {},
   "outputs": [
    {
     "data": {
      "text/plain": [
       "(16598, 18)"
      ]
     },
     "execution_count": 114,
     "metadata": {},
     "output_type": "execute_result"
    }
   ],
   "source": [
    "mf.shape"
   ]
  },
  {
   "cell_type": "code",
   "execution_count": 116,
   "metadata": {},
   "outputs": [
    {
     "data": {
      "text/plain": [
       "(12150, 18)"
      ]
     },
     "execution_count": 116,
     "metadata": {},
     "output_type": "execute_result"
    }
   ],
   "source": [
    "d1 = mf[mf[\"country_code\"] == \"USA\"]\n",
    "d1.shape"
   ]
  },
  {
   "cell_type": "code",
   "execution_count": 117,
   "metadata": {},
   "outputs": [
    {
     "data": {
      "text/plain": [
       "(628, 18)"
      ]
     },
     "execution_count": 117,
     "metadata": {},
     "output_type": "execute_result"
    }
   ],
   "source": [
    "d2 = mf[mf[\"country_code\"] == \"GBR\"]\n",
    "d2.shape"
   ]
  },
  {
   "cell_type": "code",
   "execution_count": 118,
   "metadata": {},
   "outputs": [
    {
     "data": {
      "text/plain": [
       "(426, 18)"
      ]
     },
     "execution_count": 118,
     "metadata": {},
     "output_type": "execute_result"
    }
   ],
   "source": [
    "d3 = mf[mf[\"country_code\"] == \"CAN\"]\n",
    "d3.shape"
   ]
  },
  {
   "cell_type": "markdown",
   "metadata": {},
   "source": [
    "# The total amount invested in each main sector in a separate column"
   ]
  },
  {
   "cell_type": "code",
   "execution_count": 148,
   "metadata": {
    "collapsed": true
   },
   "outputs": [],
   "source": [
    "d1_amount = d1.groupby(\"main_sector\")[\"raised_amount_usd\"].sum()"
   ]
  },
  {
   "cell_type": "code",
   "execution_count": 149,
   "metadata": {},
   "outputs": [
    {
     "name": "stdout",
     "output_type": "stream",
     "text": [
      "main_sector\n",
      "Automotive & Sports                        1.454104e+09\n",
      "Blanks                                     7.647633e+08\n",
      "Cleantech / Semiconductors                 2.163343e+10\n",
      "Entertainment                              5.099198e+09\n",
      "Health                                     8.211859e+09\n",
      "Manufacturing                              7.258553e+09\n",
      "News, Search and Messaging                 1.397157e+10\n",
      "Others                                     2.632101e+10\n",
      "Social, Finance, Analytics, Advertising    2.380738e+10\n",
      "Name: raised_amount_usd, dtype: float64\n"
     ]
    }
   ],
   "source": [
    "print(d1_amount)"
   ]
  },
  {
   "cell_type": "code",
   "execution_count": 150,
   "metadata": {
    "collapsed": true
   },
   "outputs": [],
   "source": [
    "d1_df = pd.DataFrame(columns = ['main_sector', 'total raised_amount_usd'])\n",
    "d1_df['main_sector']  = d1_amount.index\n",
    "d1_df['total raised_amount_usd'] = d1_amount.values\n",
    "#d1_df.sort_values(by=[\"total raised_amount_usd\"],ascending=False)"
   ]
  },
  {
   "cell_type": "code",
   "execution_count": 153,
   "metadata": {},
   "outputs": [
    {
     "data": {
      "text/html": [
       "<div>\n",
       "<style scoped>\n",
       "    .dataframe tbody tr th:only-of-type {\n",
       "        vertical-align: middle;\n",
       "    }\n",
       "\n",
       "    .dataframe tbody tr th {\n",
       "        vertical-align: top;\n",
       "    }\n",
       "\n",
       "    .dataframe thead th {\n",
       "        text-align: right;\n",
       "    }\n",
       "</style>\n",
       "<table border=\"1\" class=\"dataframe\">\n",
       "  <thead>\n",
       "    <tr style=\"text-align: right;\">\n",
       "      <th></th>\n",
       "      <th>main_sector</th>\n",
       "      <th>total raised_amount_usd</th>\n",
       "    </tr>\n",
       "  </thead>\n",
       "  <tbody>\n",
       "    <tr>\n",
       "      <th>7</th>\n",
       "      <td>Others</td>\n",
       "      <td>2.632101e+10</td>\n",
       "    </tr>\n",
       "    <tr>\n",
       "      <th>8</th>\n",
       "      <td>Social, Finance, Analytics, Advertising</td>\n",
       "      <td>2.380738e+10</td>\n",
       "    </tr>\n",
       "    <tr>\n",
       "      <th>2</th>\n",
       "      <td>Cleantech / Semiconductors</td>\n",
       "      <td>2.163343e+10</td>\n",
       "    </tr>\n",
       "    <tr>\n",
       "      <th>6</th>\n",
       "      <td>News, Search and Messaging</td>\n",
       "      <td>1.397157e+10</td>\n",
       "    </tr>\n",
       "    <tr>\n",
       "      <th>4</th>\n",
       "      <td>Health</td>\n",
       "      <td>8.211859e+09</td>\n",
       "    </tr>\n",
       "    <tr>\n",
       "      <th>5</th>\n",
       "      <td>Manufacturing</td>\n",
       "      <td>7.258553e+09</td>\n",
       "    </tr>\n",
       "    <tr>\n",
       "      <th>3</th>\n",
       "      <td>Entertainment</td>\n",
       "      <td>5.099198e+09</td>\n",
       "    </tr>\n",
       "    <tr>\n",
       "      <th>0</th>\n",
       "      <td>Automotive &amp; Sports</td>\n",
       "      <td>1.454104e+09</td>\n",
       "    </tr>\n",
       "    <tr>\n",
       "      <th>1</th>\n",
       "      <td>Blanks</td>\n",
       "      <td>7.647633e+08</td>\n",
       "    </tr>\n",
       "  </tbody>\n",
       "</table>\n",
       "</div>"
      ],
      "text/plain": [
       "                               main_sector  total raised_amount_usd\n",
       "7                                   Others             2.632101e+10\n",
       "8  Social, Finance, Analytics, Advertising             2.380738e+10\n",
       "2               Cleantech / Semiconductors             2.163343e+10\n",
       "6               News, Search and Messaging             1.397157e+10\n",
       "4                                   Health             8.211859e+09\n",
       "5                            Manufacturing             7.258553e+09\n",
       "3                            Entertainment             5.099198e+09\n",
       "0                      Automotive & Sports             1.454104e+09\n",
       "1                                   Blanks             7.647633e+08"
      ]
     },
     "execution_count": 153,
     "metadata": {},
     "output_type": "execute_result"
    }
   ],
   "source": [
    "#d1_df.head(10)\n",
    "d1_df.sort_values(by=[\"total raised_amount_usd\"],ascending=False)"
   ]
  },
  {
   "cell_type": "code",
   "execution_count": 154,
   "metadata": {},
   "outputs": [
    {
     "data": {
      "text/html": [
       "<div>\n",
       "<style scoped>\n",
       "    .dataframe tbody tr th:only-of-type {\n",
       "        vertical-align: middle;\n",
       "    }\n",
       "\n",
       "    .dataframe tbody tr th {\n",
       "        vertical-align: top;\n",
       "    }\n",
       "\n",
       "    .dataframe thead th {\n",
       "        text-align: right;\n",
       "    }\n",
       "</style>\n",
       "<table border=\"1\" class=\"dataframe\">\n",
       "  <thead>\n",
       "    <tr style=\"text-align: right;\">\n",
       "      <th></th>\n",
       "      <th>company_permalink</th>\n",
       "      <th>funding_round_permalink</th>\n",
       "      <th>funding_round_type</th>\n",
       "      <th>funding_round_code</th>\n",
       "      <th>funded_at</th>\n",
       "      <th>raised_amount_usd</th>\n",
       "      <th>permalink</th>\n",
       "      <th>name</th>\n",
       "      <th>homepage_url</th>\n",
       "      <th>category_list</th>\n",
       "      <th>status</th>\n",
       "      <th>country_code</th>\n",
       "      <th>state_code</th>\n",
       "      <th>region</th>\n",
       "      <th>city</th>\n",
       "      <th>founded_at</th>\n",
       "      <th>primary_sector</th>\n",
       "      <th>main_sector</th>\n",
       "      <th>total raised_amount_usd</th>\n",
       "    </tr>\n",
       "  </thead>\n",
       "  <tbody>\n",
       "    <tr>\n",
       "      <th>0</th>\n",
       "      <td>/organization/all-def-digital</td>\n",
       "      <td>/funding-round/452a2342fe720285c3b92e9bd927d9ba</td>\n",
       "      <td>venture</td>\n",
       "      <td>A</td>\n",
       "      <td>06-08-2014</td>\n",
       "      <td>5000000.0</td>\n",
       "      <td>/organization/all-def-digital</td>\n",
       "      <td>All Def Digital</td>\n",
       "      <td>http://alldefdigital.com</td>\n",
       "      <td>Media</td>\n",
       "      <td>operating</td>\n",
       "      <td>USA</td>\n",
       "      <td>CA</td>\n",
       "      <td>Los Angeles</td>\n",
       "      <td>Los Angeles</td>\n",
       "      <td>NaN</td>\n",
       "      <td>Media</td>\n",
       "      <td>Entertainment</td>\n",
       "      <td>5.099198e+09</td>\n",
       "    </tr>\n",
       "    <tr>\n",
       "      <th>1</th>\n",
       "      <td>/organization/chefs-feed</td>\n",
       "      <td>/funding-round/adca195749ae9ace84684723fbe75e5b</td>\n",
       "      <td>venture</td>\n",
       "      <td>A</td>\n",
       "      <td>26-02-2015</td>\n",
       "      <td>5000000.0</td>\n",
       "      <td>/organization/chefs-feed</td>\n",
       "      <td>ChefsFeed</td>\n",
       "      <td>http://www.chefsfeed.com</td>\n",
       "      <td>Media|Mobile|Restaurants|Technology</td>\n",
       "      <td>operating</td>\n",
       "      <td>USA</td>\n",
       "      <td>CA</td>\n",
       "      <td>SF Bay Area</td>\n",
       "      <td>San Francisco</td>\n",
       "      <td>01-01-2012</td>\n",
       "      <td>Media</td>\n",
       "      <td>Entertainment</td>\n",
       "      <td>5.099198e+09</td>\n",
       "    </tr>\n",
       "    <tr>\n",
       "      <th>2</th>\n",
       "      <td>/organization/huffingtonpost</td>\n",
       "      <td>/funding-round/7f05940c4d2dfecb8e50a0e5720e5065</td>\n",
       "      <td>venture</td>\n",
       "      <td>A</td>\n",
       "      <td>01-08-2006</td>\n",
       "      <td>5000000.0</td>\n",
       "      <td>/organization/huffingtonpost</td>\n",
       "      <td>The Huffington Post</td>\n",
       "      <td>http://www.huffingtonpost.com</td>\n",
       "      <td>Media|News|Publishing</td>\n",
       "      <td>acquired</td>\n",
       "      <td>USA</td>\n",
       "      <td>NY</td>\n",
       "      <td>New York City</td>\n",
       "      <td>New York</td>\n",
       "      <td>09-05-2005</td>\n",
       "      <td>Media</td>\n",
       "      <td>Entertainment</td>\n",
       "      <td>5.099198e+09</td>\n",
       "    </tr>\n",
       "    <tr>\n",
       "      <th>3</th>\n",
       "      <td>/organization/huffingtonpost</td>\n",
       "      <td>/funding-round/9241ae16e08df17ebdc064e49e23035a</td>\n",
       "      <td>venture</td>\n",
       "      <td>B</td>\n",
       "      <td>01-09-2007</td>\n",
       "      <td>5000000.0</td>\n",
       "      <td>/organization/huffingtonpost</td>\n",
       "      <td>The Huffington Post</td>\n",
       "      <td>http://www.huffingtonpost.com</td>\n",
       "      <td>Media|News|Publishing</td>\n",
       "      <td>acquired</td>\n",
       "      <td>USA</td>\n",
       "      <td>NY</td>\n",
       "      <td>New York City</td>\n",
       "      <td>New York</td>\n",
       "      <td>09-05-2005</td>\n",
       "      <td>Media</td>\n",
       "      <td>Entertainment</td>\n",
       "      <td>5.099198e+09</td>\n",
       "    </tr>\n",
       "    <tr>\n",
       "      <th>4</th>\n",
       "      <td>/organization/matchmine</td>\n",
       "      <td>/funding-round/41ac526630da57ad6eb9d02431b17657</td>\n",
       "      <td>venture</td>\n",
       "      <td>A</td>\n",
       "      <td>01-09-2007</td>\n",
       "      <td>10000000.0</td>\n",
       "      <td>/organization/matchmine</td>\n",
       "      <td>MatchMine</td>\n",
       "      <td>http://matchmine.com</td>\n",
       "      <td>Media|News|Reviews and Recommendations</td>\n",
       "      <td>closed</td>\n",
       "      <td>USA</td>\n",
       "      <td>MA</td>\n",
       "      <td>Boston</td>\n",
       "      <td>Needham</td>\n",
       "      <td>01-01-2007</td>\n",
       "      <td>Media</td>\n",
       "      <td>Entertainment</td>\n",
       "      <td>5.099198e+09</td>\n",
       "    </tr>\n",
       "  </tbody>\n",
       "</table>\n",
       "</div>"
      ],
      "text/plain": [
       "               company_permalink  \\\n",
       "0  /organization/all-def-digital   \n",
       "1       /organization/chefs-feed   \n",
       "2   /organization/huffingtonpost   \n",
       "3   /organization/huffingtonpost   \n",
       "4        /organization/matchmine   \n",
       "\n",
       "                           funding_round_permalink funding_round_type  \\\n",
       "0  /funding-round/452a2342fe720285c3b92e9bd927d9ba            venture   \n",
       "1  /funding-round/adca195749ae9ace84684723fbe75e5b            venture   \n",
       "2  /funding-round/7f05940c4d2dfecb8e50a0e5720e5065            venture   \n",
       "3  /funding-round/9241ae16e08df17ebdc064e49e23035a            venture   \n",
       "4  /funding-round/41ac526630da57ad6eb9d02431b17657            venture   \n",
       "\n",
       "  funding_round_code   funded_at  raised_amount_usd  \\\n",
       "0                  A  06-08-2014          5000000.0   \n",
       "1                  A  26-02-2015          5000000.0   \n",
       "2                  A  01-08-2006          5000000.0   \n",
       "3                  B  01-09-2007          5000000.0   \n",
       "4                  A  01-09-2007         10000000.0   \n",
       "\n",
       "                       permalink                 name  \\\n",
       "0  /organization/all-def-digital      All Def Digital   \n",
       "1       /organization/chefs-feed            ChefsFeed   \n",
       "2   /organization/huffingtonpost  The Huffington Post   \n",
       "3   /organization/huffingtonpost  The Huffington Post   \n",
       "4        /organization/matchmine            MatchMine   \n",
       "\n",
       "                    homepage_url                           category_list  \\\n",
       "0       http://alldefdigital.com                                   Media   \n",
       "1       http://www.chefsfeed.com     Media|Mobile|Restaurants|Technology   \n",
       "2  http://www.huffingtonpost.com                   Media|News|Publishing   \n",
       "3  http://www.huffingtonpost.com                   Media|News|Publishing   \n",
       "4           http://matchmine.com  Media|News|Reviews and Recommendations   \n",
       "\n",
       "      status country_code state_code         region           city  \\\n",
       "0  operating          USA         CA    Los Angeles    Los Angeles   \n",
       "1  operating          USA         CA    SF Bay Area  San Francisco   \n",
       "2   acquired          USA         NY  New York City       New York   \n",
       "3   acquired          USA         NY  New York City       New York   \n",
       "4     closed          USA         MA         Boston        Needham   \n",
       "\n",
       "   founded_at primary_sector    main_sector  total raised_amount_usd  \n",
       "0         NaN          Media  Entertainment             5.099198e+09  \n",
       "1  01-01-2012          Media  Entertainment             5.099198e+09  \n",
       "2  09-05-2005          Media  Entertainment             5.099198e+09  \n",
       "3  09-05-2005          Media  Entertainment             5.099198e+09  \n",
       "4  01-01-2007          Media  Entertainment             5.099198e+09  "
      ]
     },
     "execution_count": 154,
     "metadata": {},
     "output_type": "execute_result"
    }
   ],
   "source": [
    "d1_amount = pd.merge(d1, d1_df, on='main_sector', how='outer')\n",
    "d1_amount.head()"
   ]
  },
  {
   "cell_type": "code",
   "execution_count": 155,
   "metadata": {},
   "outputs": [
    {
     "data": {
      "text/html": [
       "<div>\n",
       "<style scoped>\n",
       "    .dataframe tbody tr th:only-of-type {\n",
       "        vertical-align: middle;\n",
       "    }\n",
       "\n",
       "    .dataframe tbody tr th {\n",
       "        vertical-align: top;\n",
       "    }\n",
       "\n",
       "    .dataframe thead th {\n",
       "        text-align: right;\n",
       "    }\n",
       "</style>\n",
       "<table border=\"1\" class=\"dataframe\">\n",
       "  <thead>\n",
       "    <tr style=\"text-align: right;\">\n",
       "      <th></th>\n",
       "      <th>main_sector</th>\n",
       "      <th>total raised_amount_usd</th>\n",
       "    </tr>\n",
       "  </thead>\n",
       "  <tbody>\n",
       "    <tr>\n",
       "      <th>7</th>\n",
       "      <td>Others</td>\n",
       "      <td>1.283624e+09</td>\n",
       "    </tr>\n",
       "    <tr>\n",
       "      <th>2</th>\n",
       "      <td>Cleantech / Semiconductors</td>\n",
       "      <td>1.163990e+09</td>\n",
       "    </tr>\n",
       "    <tr>\n",
       "      <th>8</th>\n",
       "      <td>Social, Finance, Analytics, Advertising</td>\n",
       "      <td>1.089404e+09</td>\n",
       "    </tr>\n",
       "    <tr>\n",
       "      <th>6</th>\n",
       "      <td>News, Search and Messaging</td>\n",
       "      <td>6.157462e+08</td>\n",
       "    </tr>\n",
       "    <tr>\n",
       "      <th>3</th>\n",
       "      <td>Entertainment</td>\n",
       "      <td>4.827847e+08</td>\n",
       "    </tr>\n",
       "    <tr>\n",
       "      <th>5</th>\n",
       "      <td>Manufacturing</td>\n",
       "      <td>3.619403e+08</td>\n",
       "    </tr>\n",
       "    <tr>\n",
       "      <th>4</th>\n",
       "      <td>Health</td>\n",
       "      <td>2.145375e+08</td>\n",
       "    </tr>\n",
       "    <tr>\n",
       "      <th>0</th>\n",
       "      <td>Automotive &amp; Sports</td>\n",
       "      <td>1.670516e+08</td>\n",
       "    </tr>\n",
       "    <tr>\n",
       "      <th>1</th>\n",
       "      <td>Blanks</td>\n",
       "      <td>5.776485e+07</td>\n",
       "    </tr>\n",
       "  </tbody>\n",
       "</table>\n",
       "</div>"
      ],
      "text/plain": [
       "                               main_sector  total raised_amount_usd\n",
       "7                                   Others             1.283624e+09\n",
       "2               Cleantech / Semiconductors             1.163990e+09\n",
       "8  Social, Finance, Analytics, Advertising             1.089404e+09\n",
       "6               News, Search and Messaging             6.157462e+08\n",
       "3                            Entertainment             4.827847e+08\n",
       "5                            Manufacturing             3.619403e+08\n",
       "4                                   Health             2.145375e+08\n",
       "0                      Automotive & Sports             1.670516e+08\n",
       "1                                   Blanks             5.776485e+07"
      ]
     },
     "execution_count": 155,
     "metadata": {},
     "output_type": "execute_result"
    }
   ],
   "source": [
    "d2_amount = d2.groupby(\"main_sector\")[\"raised_amount_usd\"].sum()\n",
    "d2_df = pd.DataFrame(columns = ['main_sector', 'total raised_amount_usd'])\n",
    "d2_df['main_sector']  = d2_amount.index\n",
    "d2_df['total raised_amount_usd'] = d2_amount.values\n",
    "d2_df.sort_values(by=[\"total raised_amount_usd\"],ascending=False)"
   ]
  },
  {
   "cell_type": "code",
   "execution_count": 156,
   "metadata": {},
   "outputs": [
    {
     "data": {
      "text/html": [
       "<div>\n",
       "<style scoped>\n",
       "    .dataframe tbody tr th:only-of-type {\n",
       "        vertical-align: middle;\n",
       "    }\n",
       "\n",
       "    .dataframe tbody tr th {\n",
       "        vertical-align: top;\n",
       "    }\n",
       "\n",
       "    .dataframe thead th {\n",
       "        text-align: right;\n",
       "    }\n",
       "</style>\n",
       "<table border=\"1\" class=\"dataframe\">\n",
       "  <thead>\n",
       "    <tr style=\"text-align: right;\">\n",
       "      <th></th>\n",
       "      <th>company_permalink</th>\n",
       "      <th>funding_round_permalink</th>\n",
       "      <th>funding_round_type</th>\n",
       "      <th>funding_round_code</th>\n",
       "      <th>funded_at</th>\n",
       "      <th>raised_amount_usd</th>\n",
       "      <th>permalink</th>\n",
       "      <th>name</th>\n",
       "      <th>homepage_url</th>\n",
       "      <th>category_list</th>\n",
       "      <th>status</th>\n",
       "      <th>country_code</th>\n",
       "      <th>state_code</th>\n",
       "      <th>region</th>\n",
       "      <th>city</th>\n",
       "      <th>founded_at</th>\n",
       "      <th>primary_sector</th>\n",
       "      <th>main_sector</th>\n",
       "      <th>total raised_amount_usd</th>\n",
       "    </tr>\n",
       "  </thead>\n",
       "  <tbody>\n",
       "    <tr>\n",
       "      <th>0</th>\n",
       "      <td>/organization/90min</td>\n",
       "      <td>/funding-round/21a2cbf6f2fb2a1c2a61e04bf930dfe6</td>\n",
       "      <td>venture</td>\n",
       "      <td>NaN</td>\n",
       "      <td>06-10-2015</td>\n",
       "      <td>15000000.0</td>\n",
       "      <td>/organization/90min</td>\n",
       "      <td>90min</td>\n",
       "      <td>http://www.90min.com</td>\n",
       "      <td>Media|News|Publishing|Soccer|Sports</td>\n",
       "      <td>operating</td>\n",
       "      <td>GBR</td>\n",
       "      <td>H9</td>\n",
       "      <td>London</td>\n",
       "      <td>London</td>\n",
       "      <td>01-01-2011</td>\n",
       "      <td>Media</td>\n",
       "      <td>Entertainment</td>\n",
       "      <td>482784687.0</td>\n",
       "    </tr>\n",
       "    <tr>\n",
       "      <th>1</th>\n",
       "      <td>/organization/90min</td>\n",
       "      <td>/funding-round/bd626ed022f5c66574b1afe234f3c90d</td>\n",
       "      <td>venture</td>\n",
       "      <td>NaN</td>\n",
       "      <td>07-05-2013</td>\n",
       "      <td>5800000.0</td>\n",
       "      <td>/organization/90min</td>\n",
       "      <td>90min</td>\n",
       "      <td>http://www.90min.com</td>\n",
       "      <td>Media|News|Publishing|Soccer|Sports</td>\n",
       "      <td>operating</td>\n",
       "      <td>GBR</td>\n",
       "      <td>H9</td>\n",
       "      <td>London</td>\n",
       "      <td>London</td>\n",
       "      <td>01-01-2011</td>\n",
       "      <td>Media</td>\n",
       "      <td>Entertainment</td>\n",
       "      <td>482784687.0</td>\n",
       "    </tr>\n",
       "    <tr>\n",
       "      <th>2</th>\n",
       "      <td>/organization/eutechnyx</td>\n",
       "      <td>/funding-round/d2fc787fbc5e4f468dff8b2c557993f1</td>\n",
       "      <td>venture</td>\n",
       "      <td>A</td>\n",
       "      <td>13-05-2010</td>\n",
       "      <td>8800000.0</td>\n",
       "      <td>/organization/eutechnyx</td>\n",
       "      <td>Eutechnyx</td>\n",
       "      <td>http://press.eutechnyx.com</td>\n",
       "      <td>Games</td>\n",
       "      <td>operating</td>\n",
       "      <td>GBR</td>\n",
       "      <td>E5</td>\n",
       "      <td>Gateshead</td>\n",
       "      <td>Gateshead</td>\n",
       "      <td>01-01-1987</td>\n",
       "      <td>Games</td>\n",
       "      <td>Entertainment</td>\n",
       "      <td>482784687.0</td>\n",
       "    </tr>\n",
       "    <tr>\n",
       "      <th>3</th>\n",
       "      <td>/organization/mind-candy</td>\n",
       "      <td>/funding-round/47df01ed44d7b5916159051e5e32391e</td>\n",
       "      <td>venture</td>\n",
       "      <td>B</td>\n",
       "      <td>01-06-2011</td>\n",
       "      <td>10000000.0</td>\n",
       "      <td>/organization/mind-candy</td>\n",
       "      <td>Mind Candy</td>\n",
       "      <td>http://www.mindcandy.com</td>\n",
       "      <td>Games</td>\n",
       "      <td>operating</td>\n",
       "      <td>GBR</td>\n",
       "      <td>H9</td>\n",
       "      <td>London</td>\n",
       "      <td>London</td>\n",
       "      <td>01-01-2003</td>\n",
       "      <td>Games</td>\n",
       "      <td>Entertainment</td>\n",
       "      <td>482784687.0</td>\n",
       "    </tr>\n",
       "    <tr>\n",
       "      <th>4</th>\n",
       "      <td>/organization/mind-candy</td>\n",
       "      <td>/funding-round/c6a873b4cbdd7ea3d023a771bd3b2f99</td>\n",
       "      <td>venture</td>\n",
       "      <td>A</td>\n",
       "      <td>23-11-2006</td>\n",
       "      <td>10860000.0</td>\n",
       "      <td>/organization/mind-candy</td>\n",
       "      <td>Mind Candy</td>\n",
       "      <td>http://www.mindcandy.com</td>\n",
       "      <td>Games</td>\n",
       "      <td>operating</td>\n",
       "      <td>GBR</td>\n",
       "      <td>H9</td>\n",
       "      <td>London</td>\n",
       "      <td>London</td>\n",
       "      <td>01-01-2003</td>\n",
       "      <td>Games</td>\n",
       "      <td>Entertainment</td>\n",
       "      <td>482784687.0</td>\n",
       "    </tr>\n",
       "  </tbody>\n",
       "</table>\n",
       "</div>"
      ],
      "text/plain": [
       "          company_permalink                          funding_round_permalink  \\\n",
       "0       /organization/90min  /funding-round/21a2cbf6f2fb2a1c2a61e04bf930dfe6   \n",
       "1       /organization/90min  /funding-round/bd626ed022f5c66574b1afe234f3c90d   \n",
       "2   /organization/eutechnyx  /funding-round/d2fc787fbc5e4f468dff8b2c557993f1   \n",
       "3  /organization/mind-candy  /funding-round/47df01ed44d7b5916159051e5e32391e   \n",
       "4  /organization/mind-candy  /funding-round/c6a873b4cbdd7ea3d023a771bd3b2f99   \n",
       "\n",
       "  funding_round_type funding_round_code   funded_at  raised_amount_usd  \\\n",
       "0            venture                NaN  06-10-2015         15000000.0   \n",
       "1            venture                NaN  07-05-2013          5800000.0   \n",
       "2            venture                  A  13-05-2010          8800000.0   \n",
       "3            venture                  B  01-06-2011         10000000.0   \n",
       "4            venture                  A  23-11-2006         10860000.0   \n",
       "\n",
       "                  permalink        name                homepage_url  \\\n",
       "0       /organization/90min       90min        http://www.90min.com   \n",
       "1       /organization/90min       90min        http://www.90min.com   \n",
       "2   /organization/eutechnyx   Eutechnyx  http://press.eutechnyx.com   \n",
       "3  /organization/mind-candy  Mind Candy    http://www.mindcandy.com   \n",
       "4  /organization/mind-candy  Mind Candy    http://www.mindcandy.com   \n",
       "\n",
       "                         category_list     status country_code state_code  \\\n",
       "0  Media|News|Publishing|Soccer|Sports  operating          GBR         H9   \n",
       "1  Media|News|Publishing|Soccer|Sports  operating          GBR         H9   \n",
       "2                                Games  operating          GBR         E5   \n",
       "3                                Games  operating          GBR         H9   \n",
       "4                                Games  operating          GBR         H9   \n",
       "\n",
       "      region       city  founded_at primary_sector    main_sector  \\\n",
       "0     London     London  01-01-2011          Media  Entertainment   \n",
       "1     London     London  01-01-2011          Media  Entertainment   \n",
       "2  Gateshead  Gateshead  01-01-1987          Games  Entertainment   \n",
       "3     London     London  01-01-2003          Games  Entertainment   \n",
       "4     London     London  01-01-2003          Games  Entertainment   \n",
       "\n",
       "   total raised_amount_usd  \n",
       "0              482784687.0  \n",
       "1              482784687.0  \n",
       "2              482784687.0  \n",
       "3              482784687.0  \n",
       "4              482784687.0  "
      ]
     },
     "execution_count": 156,
     "metadata": {},
     "output_type": "execute_result"
    }
   ],
   "source": [
    "d2_amount = pd.merge(d2, d2_df, on='main_sector', how='outer')\n",
    "d2_amount.head()"
   ]
  },
  {
   "cell_type": "code",
   "execution_count": 158,
   "metadata": {},
   "outputs": [
    {
     "data": {
      "text/html": [
       "<div>\n",
       "<style scoped>\n",
       "    .dataframe tbody tr th:only-of-type {\n",
       "        vertical-align: middle;\n",
       "    }\n",
       "\n",
       "    .dataframe tbody tr th {\n",
       "        vertical-align: top;\n",
       "    }\n",
       "\n",
       "    .dataframe thead th {\n",
       "        text-align: right;\n",
       "    }\n",
       "</style>\n",
       "<table border=\"1\" class=\"dataframe\">\n",
       "  <thead>\n",
       "    <tr style=\"text-align: right;\">\n",
       "      <th></th>\n",
       "      <th>main_sector</th>\n",
       "      <th>total raised_amount_usd</th>\n",
       "    </tr>\n",
       "  </thead>\n",
       "  <tbody>\n",
       "    <tr>\n",
       "      <th>2</th>\n",
       "      <td>Cleantech / Semiconductors</td>\n",
       "      <td>1.015888e+09</td>\n",
       "    </tr>\n",
       "    <tr>\n",
       "      <th>7</th>\n",
       "      <td>Others</td>\n",
       "      <td>9.261380e+08</td>\n",
       "    </tr>\n",
       "    <tr>\n",
       "      <th>8</th>\n",
       "      <td>Social, Finance, Analytics, Advertising</td>\n",
       "      <td>6.561431e+08</td>\n",
       "    </tr>\n",
       "    <tr>\n",
       "      <th>6</th>\n",
       "      <td>News, Search and Messaging</td>\n",
       "      <td>4.201211e+08</td>\n",
       "    </tr>\n",
       "    <tr>\n",
       "      <th>5</th>\n",
       "      <td>Manufacturing</td>\n",
       "      <td>2.376331e+08</td>\n",
       "    </tr>\n",
       "    <tr>\n",
       "      <th>4</th>\n",
       "      <td>Health</td>\n",
       "      <td>1.683451e+08</td>\n",
       "    </tr>\n",
       "    <tr>\n",
       "      <th>3</th>\n",
       "      <td>Entertainment</td>\n",
       "      <td>1.600221e+08</td>\n",
       "    </tr>\n",
       "    <tr>\n",
       "      <th>1</th>\n",
       "      <td>Blanks</td>\n",
       "      <td>4.771962e+07</td>\n",
       "    </tr>\n",
       "    <tr>\n",
       "      <th>0</th>\n",
       "      <td>Automotive &amp; Sports</td>\n",
       "      <td>1.500000e+07</td>\n",
       "    </tr>\n",
       "  </tbody>\n",
       "</table>\n",
       "</div>"
      ],
      "text/plain": [
       "                               main_sector  total raised_amount_usd\n",
       "2               Cleantech / Semiconductors             1.015888e+09\n",
       "7                                   Others             9.261380e+08\n",
       "8  Social, Finance, Analytics, Advertising             6.561431e+08\n",
       "6               News, Search and Messaging             4.201211e+08\n",
       "5                            Manufacturing             2.376331e+08\n",
       "4                                   Health             1.683451e+08\n",
       "3                            Entertainment             1.600221e+08\n",
       "1                                   Blanks             4.771962e+07\n",
       "0                      Automotive & Sports             1.500000e+07"
      ]
     },
     "execution_count": 158,
     "metadata": {},
     "output_type": "execute_result"
    }
   ],
   "source": [
    "d3_amount = d3.groupby(\"main_sector\")[\"raised_amount_usd\"].sum()\n",
    "d3_df = pd.DataFrame(columns = ['main_sector', 'total raised_amount_usd'])\n",
    "d3_df['main_sector']  = d3_amount.index\n",
    "d3_df['total raised_amount_usd'] = d3_amount.values\n",
    "d3_df.sort_values(by=[\"total raised_amount_usd\"],ascending=False)\n",
    "#d3_df.head(10)"
   ]
  },
  {
   "cell_type": "code",
   "execution_count": 159,
   "metadata": {},
   "outputs": [
    {
     "data": {
      "text/html": [
       "<div>\n",
       "<style scoped>\n",
       "    .dataframe tbody tr th:only-of-type {\n",
       "        vertical-align: middle;\n",
       "    }\n",
       "\n",
       "    .dataframe tbody tr th {\n",
       "        vertical-align: top;\n",
       "    }\n",
       "\n",
       "    .dataframe thead th {\n",
       "        text-align: right;\n",
       "    }\n",
       "</style>\n",
       "<table border=\"1\" class=\"dataframe\">\n",
       "  <thead>\n",
       "    <tr style=\"text-align: right;\">\n",
       "      <th></th>\n",
       "      <th>company_permalink</th>\n",
       "      <th>funding_round_permalink</th>\n",
       "      <th>funding_round_type</th>\n",
       "      <th>funding_round_code</th>\n",
       "      <th>funded_at</th>\n",
       "      <th>raised_amount_usd</th>\n",
       "      <th>permalink</th>\n",
       "      <th>name</th>\n",
       "      <th>homepage_url</th>\n",
       "      <th>category_list</th>\n",
       "      <th>status</th>\n",
       "      <th>country_code</th>\n",
       "      <th>state_code</th>\n",
       "      <th>region</th>\n",
       "      <th>city</th>\n",
       "      <th>founded_at</th>\n",
       "      <th>primary_sector</th>\n",
       "      <th>main_sector</th>\n",
       "      <th>total raised_amount_usd</th>\n",
       "    </tr>\n",
       "  </thead>\n",
       "  <tbody>\n",
       "    <tr>\n",
       "      <th>0</th>\n",
       "      <td>/organization/500px</td>\n",
       "      <td>/funding-round/344b1e2b60ff76f4548c69ea7c04901f</td>\n",
       "      <td>venture</td>\n",
       "      <td>A</td>\n",
       "      <td>07-08-2013</td>\n",
       "      <td>8800000.0</td>\n",
       "      <td>/organization/500px</td>\n",
       "      <td>500px</td>\n",
       "      <td>http://500px.com</td>\n",
       "      <td>Apps|Internet|Photography|Promotional|Sales an...</td>\n",
       "      <td>operating</td>\n",
       "      <td>CAN</td>\n",
       "      <td>ON</td>\n",
       "      <td>Toronto</td>\n",
       "      <td>Toronto</td>\n",
       "      <td>01-10-2009</td>\n",
       "      <td>Apps</td>\n",
       "      <td>News, Search and Messaging</td>\n",
       "      <td>420121113.0</td>\n",
       "    </tr>\n",
       "    <tr>\n",
       "      <th>1</th>\n",
       "      <td>/organization/500px</td>\n",
       "      <td>/funding-round/36b2c6975d20b602b5d9ea9724e383ea</td>\n",
       "      <td>venture</td>\n",
       "      <td>B</td>\n",
       "      <td>21-07-2015</td>\n",
       "      <td>13000000.0</td>\n",
       "      <td>/organization/500px</td>\n",
       "      <td>500px</td>\n",
       "      <td>http://500px.com</td>\n",
       "      <td>Apps|Internet|Photography|Promotional|Sales an...</td>\n",
       "      <td>operating</td>\n",
       "      <td>CAN</td>\n",
       "      <td>ON</td>\n",
       "      <td>Toronto</td>\n",
       "      <td>Toronto</td>\n",
       "      <td>01-10-2009</td>\n",
       "      <td>Apps</td>\n",
       "      <td>News, Search and Messaging</td>\n",
       "      <td>420121113.0</td>\n",
       "    </tr>\n",
       "    <tr>\n",
       "      <th>2</th>\n",
       "      <td>/organization/polar-me</td>\n",
       "      <td>/funding-round/8306cc4e0122a91a0803cb5755be62e0</td>\n",
       "      <td>venture</td>\n",
       "      <td>NaN</td>\n",
       "      <td>23-01-2012</td>\n",
       "      <td>6000000.0</td>\n",
       "      <td>/organization/polar-me</td>\n",
       "      <td>Polar</td>\n",
       "      <td>http://www.polar.me</td>\n",
       "      <td>Apps|Mobile|Software</td>\n",
       "      <td>operating</td>\n",
       "      <td>CAN</td>\n",
       "      <td>ON</td>\n",
       "      <td>Toronto</td>\n",
       "      <td>Toronto</td>\n",
       "      <td>01-11-2007</td>\n",
       "      <td>Apps</td>\n",
       "      <td>News, Search and Messaging</td>\n",
       "      <td>420121113.0</td>\n",
       "    </tr>\n",
       "    <tr>\n",
       "      <th>3</th>\n",
       "      <td>/organization/bitstrips</td>\n",
       "      <td>/funding-round/f495741fc9c3b54a87b0ff0b808d70c0</td>\n",
       "      <td>venture</td>\n",
       "      <td>B</td>\n",
       "      <td>29-10-2014</td>\n",
       "      <td>8000000.0</td>\n",
       "      <td>/organization/bitstrips</td>\n",
       "      <td>Bitstrips</td>\n",
       "      <td>http://www.bitstrips.com</td>\n",
       "      <td>Curated Web|Digital Media|Entertainment|Messaging</td>\n",
       "      <td>operating</td>\n",
       "      <td>CAN</td>\n",
       "      <td>ON</td>\n",
       "      <td>Toronto</td>\n",
       "      <td>Toronto</td>\n",
       "      <td>19-10-2007</td>\n",
       "      <td>Curated Web</td>\n",
       "      <td>News, Search and Messaging</td>\n",
       "      <td>420121113.0</td>\n",
       "    </tr>\n",
       "    <tr>\n",
       "      <th>4</th>\n",
       "      <td>/organization/casero</td>\n",
       "      <td>/funding-round/ae5a91d6dfef3f965d3d412b7714b8b4</td>\n",
       "      <td>venture</td>\n",
       "      <td>A</td>\n",
       "      <td>16-12-2004</td>\n",
       "      <td>7500000.0</td>\n",
       "      <td>/organization/casero</td>\n",
       "      <td>Casero</td>\n",
       "      <td>http://www.casero.com</td>\n",
       "      <td>Curated Web|Internet</td>\n",
       "      <td>acquired</td>\n",
       "      <td>CAN</td>\n",
       "      <td>ON</td>\n",
       "      <td>Toronto</td>\n",
       "      <td>Toronto</td>\n",
       "      <td>01-01-2002</td>\n",
       "      <td>Curated Web</td>\n",
       "      <td>News, Search and Messaging</td>\n",
       "      <td>420121113.0</td>\n",
       "    </tr>\n",
       "  </tbody>\n",
       "</table>\n",
       "</div>"
      ],
      "text/plain": [
       "         company_permalink                          funding_round_permalink  \\\n",
       "0      /organization/500px  /funding-round/344b1e2b60ff76f4548c69ea7c04901f   \n",
       "1      /organization/500px  /funding-round/36b2c6975d20b602b5d9ea9724e383ea   \n",
       "2   /organization/polar-me  /funding-round/8306cc4e0122a91a0803cb5755be62e0   \n",
       "3  /organization/bitstrips  /funding-round/f495741fc9c3b54a87b0ff0b808d70c0   \n",
       "4     /organization/casero  /funding-round/ae5a91d6dfef3f965d3d412b7714b8b4   \n",
       "\n",
       "  funding_round_type funding_round_code   funded_at  raised_amount_usd  \\\n",
       "0            venture                  A  07-08-2013          8800000.0   \n",
       "1            venture                  B  21-07-2015         13000000.0   \n",
       "2            venture                NaN  23-01-2012          6000000.0   \n",
       "3            venture                  B  29-10-2014          8000000.0   \n",
       "4            venture                  A  16-12-2004          7500000.0   \n",
       "\n",
       "                 permalink       name              homepage_url  \\\n",
       "0      /organization/500px      500px          http://500px.com   \n",
       "1      /organization/500px      500px          http://500px.com   \n",
       "2   /organization/polar-me      Polar       http://www.polar.me   \n",
       "3  /organization/bitstrips  Bitstrips  http://www.bitstrips.com   \n",
       "4     /organization/casero     Casero     http://www.casero.com   \n",
       "\n",
       "                                       category_list     status country_code  \\\n",
       "0  Apps|Internet|Photography|Promotional|Sales an...  operating          CAN   \n",
       "1  Apps|Internet|Photography|Promotional|Sales an...  operating          CAN   \n",
       "2                               Apps|Mobile|Software  operating          CAN   \n",
       "3  Curated Web|Digital Media|Entertainment|Messaging  operating          CAN   \n",
       "4                               Curated Web|Internet   acquired          CAN   \n",
       "\n",
       "  state_code   region     city  founded_at primary_sector  \\\n",
       "0         ON  Toronto  Toronto  01-10-2009           Apps   \n",
       "1         ON  Toronto  Toronto  01-10-2009           Apps   \n",
       "2         ON  Toronto  Toronto  01-11-2007           Apps   \n",
       "3         ON  Toronto  Toronto  19-10-2007    Curated Web   \n",
       "4         ON  Toronto  Toronto  01-01-2002    Curated Web   \n",
       "\n",
       "                  main_sector  total raised_amount_usd  \n",
       "0  News, Search and Messaging              420121113.0  \n",
       "1  News, Search and Messaging              420121113.0  \n",
       "2  News, Search and Messaging              420121113.0  \n",
       "3  News, Search and Messaging              420121113.0  \n",
       "4  News, Search and Messaging              420121113.0  "
      ]
     },
     "execution_count": 159,
     "metadata": {},
     "output_type": "execute_result"
    }
   ],
   "source": [
    "d3_amount = pd.merge(d3, d3_df, on='main_sector', how='outer')\n",
    "d3_amount.head()"
   ]
  },
  {
   "cell_type": "markdown",
   "metadata": {},
   "source": [
    "# The total number (or count) of investments for each main sector in a separate column"
   ]
  },
  {
   "cell_type": "code",
   "execution_count": 160,
   "metadata": {},
   "outputs": [
    {
     "data": {
      "text/html": [
       "<div>\n",
       "<style scoped>\n",
       "    .dataframe tbody tr th:only-of-type {\n",
       "        vertical-align: middle;\n",
       "    }\n",
       "\n",
       "    .dataframe tbody tr th {\n",
       "        vertical-align: top;\n",
       "    }\n",
       "\n",
       "    .dataframe thead th {\n",
       "        text-align: right;\n",
       "    }\n",
       "</style>\n",
       "<table border=\"1\" class=\"dataframe\">\n",
       "  <thead>\n",
       "    <tr style=\"text-align: right;\">\n",
       "      <th></th>\n",
       "      <th>company_permalink</th>\n",
       "      <th>funding_round_permalink</th>\n",
       "      <th>funding_round_type</th>\n",
       "      <th>funding_round_code</th>\n",
       "      <th>funded_at</th>\n",
       "      <th>raised_amount_usd</th>\n",
       "      <th>permalink</th>\n",
       "      <th>name</th>\n",
       "      <th>homepage_url</th>\n",
       "      <th>category_list</th>\n",
       "      <th>status</th>\n",
       "      <th>country_code</th>\n",
       "      <th>state_code</th>\n",
       "      <th>region</th>\n",
       "      <th>city</th>\n",
       "      <th>founded_at</th>\n",
       "      <th>primary_sector</th>\n",
       "      <th>main_sector</th>\n",
       "      <th>total raised_amount_usd</th>\n",
       "      <th>total_count_investment</th>\n",
       "    </tr>\n",
       "  </thead>\n",
       "  <tbody>\n",
       "    <tr>\n",
       "      <th>0</th>\n",
       "      <td>/organization/500px</td>\n",
       "      <td>/funding-round/344b1e2b60ff76f4548c69ea7c04901f</td>\n",
       "      <td>venture</td>\n",
       "      <td>A</td>\n",
       "      <td>07-08-2013</td>\n",
       "      <td>8800000.0</td>\n",
       "      <td>/organization/500px</td>\n",
       "      <td>500px</td>\n",
       "      <td>http://500px.com</td>\n",
       "      <td>Apps|Internet|Photography|Promotional|Sales an...</td>\n",
       "      <td>operating</td>\n",
       "      <td>CAN</td>\n",
       "      <td>ON</td>\n",
       "      <td>Toronto</td>\n",
       "      <td>Toronto</td>\n",
       "      <td>01-10-2009</td>\n",
       "      <td>Apps</td>\n",
       "      <td>News, Search and Messaging</td>\n",
       "      <td>420121113.0</td>\n",
       "      <td>46</td>\n",
       "    </tr>\n",
       "    <tr>\n",
       "      <th>1</th>\n",
       "      <td>/organization/500px</td>\n",
       "      <td>/funding-round/36b2c6975d20b602b5d9ea9724e383ea</td>\n",
       "      <td>venture</td>\n",
       "      <td>B</td>\n",
       "      <td>21-07-2015</td>\n",
       "      <td>13000000.0</td>\n",
       "      <td>/organization/500px</td>\n",
       "      <td>500px</td>\n",
       "      <td>http://500px.com</td>\n",
       "      <td>Apps|Internet|Photography|Promotional|Sales an...</td>\n",
       "      <td>operating</td>\n",
       "      <td>CAN</td>\n",
       "      <td>ON</td>\n",
       "      <td>Toronto</td>\n",
       "      <td>Toronto</td>\n",
       "      <td>01-10-2009</td>\n",
       "      <td>Apps</td>\n",
       "      <td>News, Search and Messaging</td>\n",
       "      <td>420121113.0</td>\n",
       "      <td>46</td>\n",
       "    </tr>\n",
       "    <tr>\n",
       "      <th>2</th>\n",
       "      <td>/organization/polar-me</td>\n",
       "      <td>/funding-round/8306cc4e0122a91a0803cb5755be62e0</td>\n",
       "      <td>venture</td>\n",
       "      <td>NaN</td>\n",
       "      <td>23-01-2012</td>\n",
       "      <td>6000000.0</td>\n",
       "      <td>/organization/polar-me</td>\n",
       "      <td>Polar</td>\n",
       "      <td>http://www.polar.me</td>\n",
       "      <td>Apps|Mobile|Software</td>\n",
       "      <td>operating</td>\n",
       "      <td>CAN</td>\n",
       "      <td>ON</td>\n",
       "      <td>Toronto</td>\n",
       "      <td>Toronto</td>\n",
       "      <td>01-11-2007</td>\n",
       "      <td>Apps</td>\n",
       "      <td>News, Search and Messaging</td>\n",
       "      <td>420121113.0</td>\n",
       "      <td>46</td>\n",
       "    </tr>\n",
       "    <tr>\n",
       "      <th>3</th>\n",
       "      <td>/organization/bitstrips</td>\n",
       "      <td>/funding-round/f495741fc9c3b54a87b0ff0b808d70c0</td>\n",
       "      <td>venture</td>\n",
       "      <td>B</td>\n",
       "      <td>29-10-2014</td>\n",
       "      <td>8000000.0</td>\n",
       "      <td>/organization/bitstrips</td>\n",
       "      <td>Bitstrips</td>\n",
       "      <td>http://www.bitstrips.com</td>\n",
       "      <td>Curated Web|Digital Media|Entertainment|Messaging</td>\n",
       "      <td>operating</td>\n",
       "      <td>CAN</td>\n",
       "      <td>ON</td>\n",
       "      <td>Toronto</td>\n",
       "      <td>Toronto</td>\n",
       "      <td>19-10-2007</td>\n",
       "      <td>Curated Web</td>\n",
       "      <td>News, Search and Messaging</td>\n",
       "      <td>420121113.0</td>\n",
       "      <td>46</td>\n",
       "    </tr>\n",
       "    <tr>\n",
       "      <th>4</th>\n",
       "      <td>/organization/casero</td>\n",
       "      <td>/funding-round/ae5a91d6dfef3f965d3d412b7714b8b4</td>\n",
       "      <td>venture</td>\n",
       "      <td>A</td>\n",
       "      <td>16-12-2004</td>\n",
       "      <td>7500000.0</td>\n",
       "      <td>/organization/casero</td>\n",
       "      <td>Casero</td>\n",
       "      <td>http://www.casero.com</td>\n",
       "      <td>Curated Web|Internet</td>\n",
       "      <td>acquired</td>\n",
       "      <td>CAN</td>\n",
       "      <td>ON</td>\n",
       "      <td>Toronto</td>\n",
       "      <td>Toronto</td>\n",
       "      <td>01-01-2002</td>\n",
       "      <td>Curated Web</td>\n",
       "      <td>News, Search and Messaging</td>\n",
       "      <td>420121113.0</td>\n",
       "      <td>46</td>\n",
       "    </tr>\n",
       "  </tbody>\n",
       "</table>\n",
       "</div>"
      ],
      "text/plain": [
       "         company_permalink                          funding_round_permalink  \\\n",
       "0      /organization/500px  /funding-round/344b1e2b60ff76f4548c69ea7c04901f   \n",
       "1      /organization/500px  /funding-round/36b2c6975d20b602b5d9ea9724e383ea   \n",
       "2   /organization/polar-me  /funding-round/8306cc4e0122a91a0803cb5755be62e0   \n",
       "3  /organization/bitstrips  /funding-round/f495741fc9c3b54a87b0ff0b808d70c0   \n",
       "4     /organization/casero  /funding-round/ae5a91d6dfef3f965d3d412b7714b8b4   \n",
       "\n",
       "  funding_round_type funding_round_code   funded_at  raised_amount_usd  \\\n",
       "0            venture                  A  07-08-2013          8800000.0   \n",
       "1            venture                  B  21-07-2015         13000000.0   \n",
       "2            venture                NaN  23-01-2012          6000000.0   \n",
       "3            venture                  B  29-10-2014          8000000.0   \n",
       "4            venture                  A  16-12-2004          7500000.0   \n",
       "\n",
       "                 permalink       name              homepage_url  \\\n",
       "0      /organization/500px      500px          http://500px.com   \n",
       "1      /organization/500px      500px          http://500px.com   \n",
       "2   /organization/polar-me      Polar       http://www.polar.me   \n",
       "3  /organization/bitstrips  Bitstrips  http://www.bitstrips.com   \n",
       "4     /organization/casero     Casero     http://www.casero.com   \n",
       "\n",
       "                                       category_list     status country_code  \\\n",
       "0  Apps|Internet|Photography|Promotional|Sales an...  operating          CAN   \n",
       "1  Apps|Internet|Photography|Promotional|Sales an...  operating          CAN   \n",
       "2                               Apps|Mobile|Software  operating          CAN   \n",
       "3  Curated Web|Digital Media|Entertainment|Messaging  operating          CAN   \n",
       "4                               Curated Web|Internet   acquired          CAN   \n",
       "\n",
       "  state_code   region     city  founded_at primary_sector  \\\n",
       "0         ON  Toronto  Toronto  01-10-2009           Apps   \n",
       "1         ON  Toronto  Toronto  01-10-2009           Apps   \n",
       "2         ON  Toronto  Toronto  01-11-2007           Apps   \n",
       "3         ON  Toronto  Toronto  19-10-2007    Curated Web   \n",
       "4         ON  Toronto  Toronto  01-01-2002    Curated Web   \n",
       "\n",
       "                  main_sector  total raised_amount_usd  total_count_investment  \n",
       "0  News, Search and Messaging              420121113.0                      46  \n",
       "1  News, Search and Messaging              420121113.0                      46  \n",
       "2  News, Search and Messaging              420121113.0                      46  \n",
       "3  News, Search and Messaging              420121113.0                      46  \n",
       "4  News, Search and Messaging              420121113.0                      46  "
      ]
     },
     "execution_count": 160,
     "metadata": {},
     "output_type": "execute_result"
    }
   ],
   "source": [
    "d3_t = d3_amount[\"main_sector\"].value_counts()\n",
    "d3_total = pd.DataFrame(columns = ['main_sector', 'total_count_investment'])\n",
    "d3_total['main_sector']  = d3_t.index\n",
    "d3_total['total_count_investment'] = d3_t.values\n",
    "d3_final = pd.merge(d3_amount, d3_total, on='main_sector', how='outer')\n",
    "d3_final.head()"
   ]
  },
  {
   "cell_type": "code",
   "execution_count": 161,
   "metadata": {},
   "outputs": [
    {
     "data": {
      "text/html": [
       "<div>\n",
       "<style scoped>\n",
       "    .dataframe tbody tr th:only-of-type {\n",
       "        vertical-align: middle;\n",
       "    }\n",
       "\n",
       "    .dataframe tbody tr th {\n",
       "        vertical-align: top;\n",
       "    }\n",
       "\n",
       "    .dataframe thead th {\n",
       "        text-align: right;\n",
       "    }\n",
       "</style>\n",
       "<table border=\"1\" class=\"dataframe\">\n",
       "  <thead>\n",
       "    <tr style=\"text-align: right;\">\n",
       "      <th></th>\n",
       "      <th>company_permalink</th>\n",
       "      <th>funding_round_permalink</th>\n",
       "      <th>funding_round_type</th>\n",
       "      <th>funding_round_code</th>\n",
       "      <th>funded_at</th>\n",
       "      <th>raised_amount_usd</th>\n",
       "      <th>permalink</th>\n",
       "      <th>name</th>\n",
       "      <th>homepage_url</th>\n",
       "      <th>category_list</th>\n",
       "      <th>status</th>\n",
       "      <th>country_code</th>\n",
       "      <th>state_code</th>\n",
       "      <th>region</th>\n",
       "      <th>city</th>\n",
       "      <th>founded_at</th>\n",
       "      <th>primary_sector</th>\n",
       "      <th>main_sector</th>\n",
       "      <th>total raised_amount_usd</th>\n",
       "      <th>total_count_investment</th>\n",
       "    </tr>\n",
       "  </thead>\n",
       "  <tbody>\n",
       "    <tr>\n",
       "      <th>0</th>\n",
       "      <td>/organization/90min</td>\n",
       "      <td>/funding-round/21a2cbf6f2fb2a1c2a61e04bf930dfe6</td>\n",
       "      <td>venture</td>\n",
       "      <td>NaN</td>\n",
       "      <td>06-10-2015</td>\n",
       "      <td>15000000.0</td>\n",
       "      <td>/organization/90min</td>\n",
       "      <td>90min</td>\n",
       "      <td>http://www.90min.com</td>\n",
       "      <td>Media|News|Publishing|Soccer|Sports</td>\n",
       "      <td>operating</td>\n",
       "      <td>GBR</td>\n",
       "      <td>H9</td>\n",
       "      <td>London</td>\n",
       "      <td>London</td>\n",
       "      <td>01-01-2011</td>\n",
       "      <td>Media</td>\n",
       "      <td>Entertainment</td>\n",
       "      <td>482784687.0</td>\n",
       "      <td>56</td>\n",
       "    </tr>\n",
       "    <tr>\n",
       "      <th>1</th>\n",
       "      <td>/organization/90min</td>\n",
       "      <td>/funding-round/bd626ed022f5c66574b1afe234f3c90d</td>\n",
       "      <td>venture</td>\n",
       "      <td>NaN</td>\n",
       "      <td>07-05-2013</td>\n",
       "      <td>5800000.0</td>\n",
       "      <td>/organization/90min</td>\n",
       "      <td>90min</td>\n",
       "      <td>http://www.90min.com</td>\n",
       "      <td>Media|News|Publishing|Soccer|Sports</td>\n",
       "      <td>operating</td>\n",
       "      <td>GBR</td>\n",
       "      <td>H9</td>\n",
       "      <td>London</td>\n",
       "      <td>London</td>\n",
       "      <td>01-01-2011</td>\n",
       "      <td>Media</td>\n",
       "      <td>Entertainment</td>\n",
       "      <td>482784687.0</td>\n",
       "      <td>56</td>\n",
       "    </tr>\n",
       "    <tr>\n",
       "      <th>2</th>\n",
       "      <td>/organization/eutechnyx</td>\n",
       "      <td>/funding-round/d2fc787fbc5e4f468dff8b2c557993f1</td>\n",
       "      <td>venture</td>\n",
       "      <td>A</td>\n",
       "      <td>13-05-2010</td>\n",
       "      <td>8800000.0</td>\n",
       "      <td>/organization/eutechnyx</td>\n",
       "      <td>Eutechnyx</td>\n",
       "      <td>http://press.eutechnyx.com</td>\n",
       "      <td>Games</td>\n",
       "      <td>operating</td>\n",
       "      <td>GBR</td>\n",
       "      <td>E5</td>\n",
       "      <td>Gateshead</td>\n",
       "      <td>Gateshead</td>\n",
       "      <td>01-01-1987</td>\n",
       "      <td>Games</td>\n",
       "      <td>Entertainment</td>\n",
       "      <td>482784687.0</td>\n",
       "      <td>56</td>\n",
       "    </tr>\n",
       "    <tr>\n",
       "      <th>3</th>\n",
       "      <td>/organization/mind-candy</td>\n",
       "      <td>/funding-round/47df01ed44d7b5916159051e5e32391e</td>\n",
       "      <td>venture</td>\n",
       "      <td>B</td>\n",
       "      <td>01-06-2011</td>\n",
       "      <td>10000000.0</td>\n",
       "      <td>/organization/mind-candy</td>\n",
       "      <td>Mind Candy</td>\n",
       "      <td>http://www.mindcandy.com</td>\n",
       "      <td>Games</td>\n",
       "      <td>operating</td>\n",
       "      <td>GBR</td>\n",
       "      <td>H9</td>\n",
       "      <td>London</td>\n",
       "      <td>London</td>\n",
       "      <td>01-01-2003</td>\n",
       "      <td>Games</td>\n",
       "      <td>Entertainment</td>\n",
       "      <td>482784687.0</td>\n",
       "      <td>56</td>\n",
       "    </tr>\n",
       "    <tr>\n",
       "      <th>4</th>\n",
       "      <td>/organization/mind-candy</td>\n",
       "      <td>/funding-round/c6a873b4cbdd7ea3d023a771bd3b2f99</td>\n",
       "      <td>venture</td>\n",
       "      <td>A</td>\n",
       "      <td>23-11-2006</td>\n",
       "      <td>10860000.0</td>\n",
       "      <td>/organization/mind-candy</td>\n",
       "      <td>Mind Candy</td>\n",
       "      <td>http://www.mindcandy.com</td>\n",
       "      <td>Games</td>\n",
       "      <td>operating</td>\n",
       "      <td>GBR</td>\n",
       "      <td>H9</td>\n",
       "      <td>London</td>\n",
       "      <td>London</td>\n",
       "      <td>01-01-2003</td>\n",
       "      <td>Games</td>\n",
       "      <td>Entertainment</td>\n",
       "      <td>482784687.0</td>\n",
       "      <td>56</td>\n",
       "    </tr>\n",
       "  </tbody>\n",
       "</table>\n",
       "</div>"
      ],
      "text/plain": [
       "          company_permalink                          funding_round_permalink  \\\n",
       "0       /organization/90min  /funding-round/21a2cbf6f2fb2a1c2a61e04bf930dfe6   \n",
       "1       /organization/90min  /funding-round/bd626ed022f5c66574b1afe234f3c90d   \n",
       "2   /organization/eutechnyx  /funding-round/d2fc787fbc5e4f468dff8b2c557993f1   \n",
       "3  /organization/mind-candy  /funding-round/47df01ed44d7b5916159051e5e32391e   \n",
       "4  /organization/mind-candy  /funding-round/c6a873b4cbdd7ea3d023a771bd3b2f99   \n",
       "\n",
       "  funding_round_type funding_round_code   funded_at  raised_amount_usd  \\\n",
       "0            venture                NaN  06-10-2015         15000000.0   \n",
       "1            venture                NaN  07-05-2013          5800000.0   \n",
       "2            venture                  A  13-05-2010          8800000.0   \n",
       "3            venture                  B  01-06-2011         10000000.0   \n",
       "4            venture                  A  23-11-2006         10860000.0   \n",
       "\n",
       "                  permalink        name                homepage_url  \\\n",
       "0       /organization/90min       90min        http://www.90min.com   \n",
       "1       /organization/90min       90min        http://www.90min.com   \n",
       "2   /organization/eutechnyx   Eutechnyx  http://press.eutechnyx.com   \n",
       "3  /organization/mind-candy  Mind Candy    http://www.mindcandy.com   \n",
       "4  /organization/mind-candy  Mind Candy    http://www.mindcandy.com   \n",
       "\n",
       "                         category_list     status country_code state_code  \\\n",
       "0  Media|News|Publishing|Soccer|Sports  operating          GBR         H9   \n",
       "1  Media|News|Publishing|Soccer|Sports  operating          GBR         H9   \n",
       "2                                Games  operating          GBR         E5   \n",
       "3                                Games  operating          GBR         H9   \n",
       "4                                Games  operating          GBR         H9   \n",
       "\n",
       "      region       city  founded_at primary_sector    main_sector  \\\n",
       "0     London     London  01-01-2011          Media  Entertainment   \n",
       "1     London     London  01-01-2011          Media  Entertainment   \n",
       "2  Gateshead  Gateshead  01-01-1987          Games  Entertainment   \n",
       "3     London     London  01-01-2003          Games  Entertainment   \n",
       "4     London     London  01-01-2003          Games  Entertainment   \n",
       "\n",
       "   total raised_amount_usd  total_count_investment  \n",
       "0              482784687.0                      56  \n",
       "1              482784687.0                      56  \n",
       "2              482784687.0                      56  \n",
       "3              482784687.0                      56  \n",
       "4              482784687.0                      56  "
      ]
     },
     "execution_count": 161,
     "metadata": {},
     "output_type": "execute_result"
    }
   ],
   "source": [
    "d2_t = d2_amount[\"main_sector\"].value_counts()\n",
    "d2_total = pd.DataFrame(columns = ['main_sector', 'total_count_investment'])\n",
    "d2_total['main_sector']  = d2_t.index\n",
    "d2_total['total_count_investment'] = d2_t.values\n",
    "d2_final = pd.merge(d2_amount, d2_total, on='main_sector', how='outer')\n",
    "d2_final.head()"
   ]
  },
  {
   "cell_type": "code",
   "execution_count": 162,
   "metadata": {},
   "outputs": [
    {
     "data": {
      "text/html": [
       "<div>\n",
       "<style scoped>\n",
       "    .dataframe tbody tr th:only-of-type {\n",
       "        vertical-align: middle;\n",
       "    }\n",
       "\n",
       "    .dataframe tbody tr th {\n",
       "        vertical-align: top;\n",
       "    }\n",
       "\n",
       "    .dataframe thead th {\n",
       "        text-align: right;\n",
       "    }\n",
       "</style>\n",
       "<table border=\"1\" class=\"dataframe\">\n",
       "  <thead>\n",
       "    <tr style=\"text-align: right;\">\n",
       "      <th></th>\n",
       "      <th>company_permalink</th>\n",
       "      <th>funding_round_permalink</th>\n",
       "      <th>funding_round_type</th>\n",
       "      <th>funding_round_code</th>\n",
       "      <th>funded_at</th>\n",
       "      <th>raised_amount_usd</th>\n",
       "      <th>permalink</th>\n",
       "      <th>name</th>\n",
       "      <th>homepage_url</th>\n",
       "      <th>category_list</th>\n",
       "      <th>status</th>\n",
       "      <th>country_code</th>\n",
       "      <th>state_code</th>\n",
       "      <th>region</th>\n",
       "      <th>city</th>\n",
       "      <th>founded_at</th>\n",
       "      <th>primary_sector</th>\n",
       "      <th>main_sector</th>\n",
       "      <th>total raised_amount_usd</th>\n",
       "      <th>total_count_investment</th>\n",
       "    </tr>\n",
       "  </thead>\n",
       "  <tbody>\n",
       "    <tr>\n",
       "      <th>0</th>\n",
       "      <td>/organization/all-def-digital</td>\n",
       "      <td>/funding-round/452a2342fe720285c3b92e9bd927d9ba</td>\n",
       "      <td>venture</td>\n",
       "      <td>A</td>\n",
       "      <td>06-08-2014</td>\n",
       "      <td>5000000.0</td>\n",
       "      <td>/organization/all-def-digital</td>\n",
       "      <td>All Def Digital</td>\n",
       "      <td>http://alldefdigital.com</td>\n",
       "      <td>Media</td>\n",
       "      <td>operating</td>\n",
       "      <td>USA</td>\n",
       "      <td>CA</td>\n",
       "      <td>Los Angeles</td>\n",
       "      <td>Los Angeles</td>\n",
       "      <td>NaN</td>\n",
       "      <td>Media</td>\n",
       "      <td>Entertainment</td>\n",
       "      <td>5.099198e+09</td>\n",
       "      <td>591.0</td>\n",
       "    </tr>\n",
       "    <tr>\n",
       "      <th>1</th>\n",
       "      <td>/organization/chefs-feed</td>\n",
       "      <td>/funding-round/adca195749ae9ace84684723fbe75e5b</td>\n",
       "      <td>venture</td>\n",
       "      <td>A</td>\n",
       "      <td>26-02-2015</td>\n",
       "      <td>5000000.0</td>\n",
       "      <td>/organization/chefs-feed</td>\n",
       "      <td>ChefsFeed</td>\n",
       "      <td>http://www.chefsfeed.com</td>\n",
       "      <td>Media|Mobile|Restaurants|Technology</td>\n",
       "      <td>operating</td>\n",
       "      <td>USA</td>\n",
       "      <td>CA</td>\n",
       "      <td>SF Bay Area</td>\n",
       "      <td>San Francisco</td>\n",
       "      <td>01-01-2012</td>\n",
       "      <td>Media</td>\n",
       "      <td>Entertainment</td>\n",
       "      <td>5.099198e+09</td>\n",
       "      <td>591.0</td>\n",
       "    </tr>\n",
       "    <tr>\n",
       "      <th>2</th>\n",
       "      <td>/organization/huffingtonpost</td>\n",
       "      <td>/funding-round/7f05940c4d2dfecb8e50a0e5720e5065</td>\n",
       "      <td>venture</td>\n",
       "      <td>A</td>\n",
       "      <td>01-08-2006</td>\n",
       "      <td>5000000.0</td>\n",
       "      <td>/organization/huffingtonpost</td>\n",
       "      <td>The Huffington Post</td>\n",
       "      <td>http://www.huffingtonpost.com</td>\n",
       "      <td>Media|News|Publishing</td>\n",
       "      <td>acquired</td>\n",
       "      <td>USA</td>\n",
       "      <td>NY</td>\n",
       "      <td>New York City</td>\n",
       "      <td>New York</td>\n",
       "      <td>09-05-2005</td>\n",
       "      <td>Media</td>\n",
       "      <td>Entertainment</td>\n",
       "      <td>5.099198e+09</td>\n",
       "      <td>591.0</td>\n",
       "    </tr>\n",
       "    <tr>\n",
       "      <th>3</th>\n",
       "      <td>/organization/huffingtonpost</td>\n",
       "      <td>/funding-round/9241ae16e08df17ebdc064e49e23035a</td>\n",
       "      <td>venture</td>\n",
       "      <td>B</td>\n",
       "      <td>01-09-2007</td>\n",
       "      <td>5000000.0</td>\n",
       "      <td>/organization/huffingtonpost</td>\n",
       "      <td>The Huffington Post</td>\n",
       "      <td>http://www.huffingtonpost.com</td>\n",
       "      <td>Media|News|Publishing</td>\n",
       "      <td>acquired</td>\n",
       "      <td>USA</td>\n",
       "      <td>NY</td>\n",
       "      <td>New York City</td>\n",
       "      <td>New York</td>\n",
       "      <td>09-05-2005</td>\n",
       "      <td>Media</td>\n",
       "      <td>Entertainment</td>\n",
       "      <td>5.099198e+09</td>\n",
       "      <td>591.0</td>\n",
       "    </tr>\n",
       "    <tr>\n",
       "      <th>4</th>\n",
       "      <td>/organization/matchmine</td>\n",
       "      <td>/funding-round/41ac526630da57ad6eb9d02431b17657</td>\n",
       "      <td>venture</td>\n",
       "      <td>A</td>\n",
       "      <td>01-09-2007</td>\n",
       "      <td>10000000.0</td>\n",
       "      <td>/organization/matchmine</td>\n",
       "      <td>MatchMine</td>\n",
       "      <td>http://matchmine.com</td>\n",
       "      <td>Media|News|Reviews and Recommendations</td>\n",
       "      <td>closed</td>\n",
       "      <td>USA</td>\n",
       "      <td>MA</td>\n",
       "      <td>Boston</td>\n",
       "      <td>Needham</td>\n",
       "      <td>01-01-2007</td>\n",
       "      <td>Media</td>\n",
       "      <td>Entertainment</td>\n",
       "      <td>5.099198e+09</td>\n",
       "      <td>591.0</td>\n",
       "    </tr>\n",
       "  </tbody>\n",
       "</table>\n",
       "</div>"
      ],
      "text/plain": [
       "               company_permalink  \\\n",
       "0  /organization/all-def-digital   \n",
       "1       /organization/chefs-feed   \n",
       "2   /organization/huffingtonpost   \n",
       "3   /organization/huffingtonpost   \n",
       "4        /organization/matchmine   \n",
       "\n",
       "                           funding_round_permalink funding_round_type  \\\n",
       "0  /funding-round/452a2342fe720285c3b92e9bd927d9ba            venture   \n",
       "1  /funding-round/adca195749ae9ace84684723fbe75e5b            venture   \n",
       "2  /funding-round/7f05940c4d2dfecb8e50a0e5720e5065            venture   \n",
       "3  /funding-round/9241ae16e08df17ebdc064e49e23035a            venture   \n",
       "4  /funding-round/41ac526630da57ad6eb9d02431b17657            venture   \n",
       "\n",
       "  funding_round_code   funded_at  raised_amount_usd  \\\n",
       "0                  A  06-08-2014          5000000.0   \n",
       "1                  A  26-02-2015          5000000.0   \n",
       "2                  A  01-08-2006          5000000.0   \n",
       "3                  B  01-09-2007          5000000.0   \n",
       "4                  A  01-09-2007         10000000.0   \n",
       "\n",
       "                       permalink                 name  \\\n",
       "0  /organization/all-def-digital      All Def Digital   \n",
       "1       /organization/chefs-feed            ChefsFeed   \n",
       "2   /organization/huffingtonpost  The Huffington Post   \n",
       "3   /organization/huffingtonpost  The Huffington Post   \n",
       "4        /organization/matchmine            MatchMine   \n",
       "\n",
       "                    homepage_url                           category_list  \\\n",
       "0       http://alldefdigital.com                                   Media   \n",
       "1       http://www.chefsfeed.com     Media|Mobile|Restaurants|Technology   \n",
       "2  http://www.huffingtonpost.com                   Media|News|Publishing   \n",
       "3  http://www.huffingtonpost.com                   Media|News|Publishing   \n",
       "4           http://matchmine.com  Media|News|Reviews and Recommendations   \n",
       "\n",
       "      status country_code state_code         region           city  \\\n",
       "0  operating          USA         CA    Los Angeles    Los Angeles   \n",
       "1  operating          USA         CA    SF Bay Area  San Francisco   \n",
       "2   acquired          USA         NY  New York City       New York   \n",
       "3   acquired          USA         NY  New York City       New York   \n",
       "4     closed          USA         MA         Boston        Needham   \n",
       "\n",
       "   founded_at primary_sector    main_sector  total raised_amount_usd  \\\n",
       "0         NaN          Media  Entertainment             5.099198e+09   \n",
       "1  01-01-2012          Media  Entertainment             5.099198e+09   \n",
       "2  09-05-2005          Media  Entertainment             5.099198e+09   \n",
       "3  09-05-2005          Media  Entertainment             5.099198e+09   \n",
       "4  01-01-2007          Media  Entertainment             5.099198e+09   \n",
       "\n",
       "   total_count_investment  \n",
       "0                   591.0  \n",
       "1                   591.0  \n",
       "2                   591.0  \n",
       "3                   591.0  \n",
       "4                   591.0  "
      ]
     },
     "execution_count": 162,
     "metadata": {},
     "output_type": "execute_result"
    }
   ],
   "source": [
    "d1_t = d1_amount[\"main_sector\"].value_counts()\n",
    "d1_total = pd.DataFrame(columns = ['main_sector', 'total_count_investment'])\n",
    "d1_total['main_sector']  = d1_t.index\n",
    "d1_total['total_count_investment'] = d1_t.values\n",
    "d1_final = pd.merge(d1_amount, d1_total, on='main_sector', how='outer')\n",
    "d1_final.head()"
   ]
  },
  {
   "cell_type": "code",
   "execution_count": 163,
   "metadata": {},
   "outputs": [
    {
     "data": {
      "text/plain": [
       "12149"
      ]
     },
     "execution_count": 163,
     "metadata": {},
     "output_type": "execute_result"
    }
   ],
   "source": [
    "d1_final[\"main_sector\"].value_counts().sort_values(ascending=False).sum()"
   ]
  },
  {
   "cell_type": "code",
   "execution_count": 164,
   "metadata": {},
   "outputs": [
    {
     "data": {
      "text/plain": [
       "628"
      ]
     },
     "execution_count": 164,
     "metadata": {},
     "output_type": "execute_result"
    }
   ],
   "source": [
    "d2_final[\"main_sector\"].value_counts().sort_values(ascending=False).sum()"
   ]
  },
  {
   "cell_type": "code",
   "execution_count": 165,
   "metadata": {},
   "outputs": [
    {
     "data": {
      "text/plain": [
       "426"
      ]
     },
     "execution_count": 165,
     "metadata": {},
     "output_type": "execute_result"
    }
   ],
   "source": [
    "d3_final[\"main_sector\"].value_counts().sort_values(ascending=False).sum()"
   ]
  },
  {
   "cell_type": "code",
   "execution_count": 166,
   "metadata": {},
   "outputs": [
    {
     "data": {
      "text/plain": [
       "108531347515.0"
      ]
     },
     "execution_count": 166,
     "metadata": {},
     "output_type": "execute_result"
    }
   ],
   "source": [
    "d1_final[\"raised_amount_usd\"].sum()"
   ]
  },
  {
   "cell_type": "code",
   "execution_count": 167,
   "metadata": {},
   "outputs": [
    {
     "data": {
      "text/plain": [
       "5436843539.0"
      ]
     },
     "execution_count": 167,
     "metadata": {},
     "output_type": "execute_result"
    }
   ],
   "source": [
    "d2_final[\"raised_amount_usd\"].sum()"
   ]
  },
  {
   "cell_type": "code",
   "execution_count": 168,
   "metadata": {},
   "outputs": [
    {
     "data": {
      "text/plain": [
       "3647009578.0"
      ]
     },
     "execution_count": 168,
     "metadata": {},
     "output_type": "execute_result"
    }
   ],
   "source": [
    "d3_final[\"raised_amount_usd\"].sum()"
   ]
  },
  {
   "cell_type": "code",
   "execution_count": 171,
   "metadata": {},
   "outputs": [
    {
     "data": {
      "text/plain": [
       "Others                                     2950\n",
       "Social, Finance, Analytics, Advertising    2714\n",
       "Cleantech / Semiconductors                 2350\n",
       "Name: main_sector, dtype: int64"
      ]
     },
     "execution_count": 171,
     "metadata": {},
     "output_type": "execute_result"
    }
   ],
   "source": [
    "d1_final[\"main_sector\"].value_counts().sort_values(ascending=False).head(3)"
   ]
  },
  {
   "cell_type": "code",
   "execution_count": 172,
   "metadata": {},
   "outputs": [
    {
     "data": {
      "text/plain": [
       "Others                                     147\n",
       "Social, Finance, Analytics, Advertising    133\n",
       "Cleantech / Semiconductors                 130\n",
       "Name: main_sector, dtype: int64"
      ]
     },
     "execution_count": 172,
     "metadata": {},
     "output_type": "execute_result"
    }
   ],
   "source": [
    "d2_final[\"main_sector\"].value_counts().sort_values(ascending=False).head(3)"
   ]
  },
  {
   "cell_type": "code",
   "execution_count": 173,
   "metadata": {},
   "outputs": [
    {
     "data": {
      "text/plain": [
       "Cleantech / Semiconductors                 112\n",
       "Others                                     109\n",
       "Social, Finance, Analytics, Advertising     78\n",
       "Name: main_sector, dtype: int64"
      ]
     },
     "execution_count": 173,
     "metadata": {},
     "output_type": "execute_result"
    }
   ],
   "source": [
    "d3_final[\"main_sector\"].value_counts().sort_values(ascending=False).head(3)"
   ]
  },
  {
   "cell_type": "code",
   "execution_count": 175,
   "metadata": {},
   "outputs": [
    {
     "data": {
      "text/plain": [
       "name\n",
       "Virtustream    64300000.0\n",
       "Name: raised_amount_usd, dtype: float64"
      ]
     },
     "execution_count": 175,
     "metadata": {},
     "output_type": "execute_result"
    }
   ],
   "source": [
    "#For point 3 (top sector count-wise), which company received the highest investment?\n",
    "d1_final[d1_final[\"main_sector\"] == \"Others\"].groupby(\"name\")[\"raised_amount_usd\"].sum().sort_values(ascending=False).head(1)"
   ]
  },
  {
   "cell_type": "code",
   "execution_count": 176,
   "metadata": {},
   "outputs": [
    {
     "data": {
      "text/plain": [
       "name\n",
       "SST Inc. (Formerly ShotSpotter)    67933006.0\n",
       "Name: raised_amount_usd, dtype: float64"
      ]
     },
     "execution_count": 176,
     "metadata": {},
     "output_type": "execute_result"
    }
   ],
   "source": [
    "d1_final[d1_final[\"main_sector\"] == \"Social, Finance, Analytics, Advertising\"].groupby(\"name\")[\"raised_amount_usd\"].sum().sort_values(ascending=False).head(1)"
   ]
  },
  {
   "cell_type": "code",
   "execution_count": 177,
   "metadata": {},
   "outputs": [
    {
     "data": {
      "text/plain": [
       "name\n",
       "Electric Cloud    37000000.0\n",
       "Name: raised_amount_usd, dtype: float64"
      ]
     },
     "execution_count": 177,
     "metadata": {},
     "output_type": "execute_result"
    }
   ],
   "source": [
    "d2_final[d2_final[\"main_sector\"] == \"Others\"].groupby(\"name\")[\"raised_amount_usd\"].sum().sort_values(ascending=False).head(1)"
   ]
  },
  {
   "cell_type": "code",
   "execution_count": 178,
   "metadata": {},
   "outputs": [
    {
     "data": {
      "text/plain": [
       "name\n",
       "Celltick Technologies    37500000.0\n",
       "Name: raised_amount_usd, dtype: float64"
      ]
     },
     "execution_count": 178,
     "metadata": {},
     "output_type": "execute_result"
    }
   ],
   "source": [
    "d2_final[d2_final[\"main_sector\"] == \"Social, Finance, Analytics, Advertising\"].groupby(\"name\")[\"raised_amount_usd\"].sum().sort_values(ascending=False).head(1)"
   ]
  },
  {
   "cell_type": "code",
   "execution_count": 179,
   "metadata": {},
   "outputs": [
    {
     "data": {
      "text/plain": [
       "name\n",
       "Fresco Microchip    48000000.0\n",
       "Name: raised_amount_usd, dtype: float64"
      ]
     },
     "execution_count": 179,
     "metadata": {},
     "output_type": "execute_result"
    }
   ],
   "source": [
    "d3_final[d3_final[\"main_sector\"] == \"Cleantech / Semiconductors\"].groupby(\"name\")[\"raised_amount_usd\"].sum().sort_values(ascending=False).head(1)"
   ]
  },
  {
   "cell_type": "code",
   "execution_count": 180,
   "metadata": {},
   "outputs": [
    {
     "data": {
      "text/plain": [
       "name\n",
       "QuickPlay Media    38700000.0\n",
       "Name: raised_amount_usd, dtype: float64"
      ]
     },
     "execution_count": 180,
     "metadata": {},
     "output_type": "execute_result"
    }
   ],
   "source": [
    "d3_final[d3_final[\"main_sector\"] == \"Others\"].groupby(\"name\")[\"raised_amount_usd\"].sum().sort_values(ascending=False).head(1)"
   ]
  },
  {
   "cell_type": "markdown",
   "metadata": {},
   "source": [
    "# CHECKPOINT 6"
   ]
  },
  {
   "cell_type": "code",
   "execution_count": 192,
   "metadata": {},
   "outputs": [
    {
     "name": "stdout",
     "output_type": "stream",
     "text": [
      "funding_round_type\n",
      "angel              0.654367\n",
      "private_equity    16.591832\n",
      "seed               3.012973\n",
      "venture           79.740828\n",
      "Name: raised_amount_usd, dtype: float64\n",
      "funding_round_type\n",
      "angel               350000.0\n",
      "private_equity    15000000.0\n",
      "seed                250000.0\n",
      "venture            4207368.0\n",
      "Name: raised_amount_usd, dtype: float64\n"
     ]
    },
    {
     "data": {
      "image/png": "[encoded data removed]",
      "text/plain": [
       "<Figure size 432x288 with 1 Axes>"
      ]
     },
     "metadata": {
      "needs_background": "light"
     },
     "output_type": "display_data"
    }
   ],
   "source": [
    "#A plot showing the fraction of total investments (globally) in angel, venture, \n",
    "#seed, and private equity, and the average amount of investment in each funding type. This chart should make it clear\n",
    "#that a certain funding type (FT) is best suited for Spark Funds.\n",
    "import seaborn as sns\n",
    "import matplotlib.pyplot as plt\n",
    "total_investment = (master_frame_2.groupby([\"funding_round_type\"])[\"raised_amount_usd\"].sum()*100) / master_frame_2[\"raised_amount_usd\"].sum()\n",
    "avg_investment = master_frame_2.groupby([\"funding_round_type\"])[\"raised_amount_usd\"].median()\n",
    "print(total_investment)\n",
    "print(avg_investment)\n",
    "plotdf = { 'total_investment' : total_investment.values , 'avg_investment' : avg_investment.values, 'funding_round_type' : avg_investment.index}\n",
    "sns.barplot(data=plotdf,y='total_investment', x='avg_investment', hue=\"funding_round_type\", estimator= np.sum)\n",
    "#plot_1 = pd.DataFrame(plotdf, columns = ['total_investment', 'avg_investment'], index=['angel','private_equity','seed','venture'])\n",
    "#plot_1['total_investment'] = total_investment.values\n",
    "#plot_1['avg_investment'] = avg_investment.values\n",
    "#plot_1.plot.bar()\n",
    "plt.show()"
   ]
  },
  {
   "cell_type": "code",
   "execution_count": 182,
   "metadata": {},
   "outputs": [
    {
     "data": {
      "image/png": "[encoded data removed]",
      "text/plain": [
       "<Figure size 432x288 with 1 Axes>"
      ]
     },
     "metadata": {
      "needs_background": "light"
     },
     "output_type": "display_data"
    }
   ],
   "source": [
    "#A plot showing the top 9 countries against the total amount of investments of funding type FT.\n",
    "#This should make the top 3 countries (Country 1, Country 2, and Country 3) very clear.\n",
    "master_frame_top9 = master_frame_venture[master_frame_venture[\"country_code\"].isin([\"USA\",\"CHN\",\"GBR\",\"IND\",\"CAN\",\"FRA\",\"ISR\",\"DEU\",\"JPN\"])]\n",
    "master_frame_top9.groupby(\"country_code\")[\"raised_amount_usd\"].sum().plot.bar()\n",
    "plt.show()"
   ]
  },
  {
   "cell_type": "code",
   "execution_count": 183,
   "metadata": {},
   "outputs": [
    {
     "name": "stdout",
     "output_type": "stream",
     "text": [
      "Others                                     2950\n",
      "Social, Finance, Analytics, Advertising    2714\n",
      "Cleantech / Semiconductors                 2350\n",
      "Name: main_sector, dtype: int64\n",
      "Others                                     147\n",
      "Social, Finance, Analytics, Advertising    133\n",
      "Cleantech / Semiconductors                 130\n",
      "Name: main_sector, dtype: int64\n",
      "Cleantech / Semiconductors                 112\n",
      "Others                                     109\n",
      "Social, Finance, Analytics, Advertising     78\n",
      "Name: main_sector, dtype: int64\n"
     ]
    }
   ],
   "source": [
    "#A plot showing the number of investments in the top 3 sectors of \n",
    "#the top 3 countries on one chart (for the chosen investment type FT). \n",
    "d1_top3 = d1_final[\"main_sector\"].value_counts().sort_values(ascending=False).head(3)\n",
    "d2_top3 = d2_final[\"main_sector\"].value_counts().sort_values(ascending=False).head(3)\n",
    "d3_top3 =d3_final[\"main_sector\"].value_counts().sort_values(ascending=False).head(3)\n",
    "print(d1_top3)\n",
    "print(d2_top3)\n",
    "print(d3_top3)"
   ]
  },
  {
   "cell_type": "code",
   "execution_count": 184,
   "metadata": {
    "collapsed": true
   },
   "outputs": [],
   "source": [
    "d1_top = d1_final[d1_final['main_sector'].isin(['Others','Cleantech / Semiconductors','Social, Finance, Analytics, Advertising'])]\n",
    "d2_top = d2_final[d2_final['main_sector'].isin(['Others','Cleantech / Semiconductors','Social, Finance, Analytics, Advertising'])]\n",
    "d3_top = d3_final[d3_final['main_sector'].isin(['Others','Cleantech / Semiconductors','Social, Finance, Analytics, Advertising'])]"
   ]
  },
  {
   "cell_type": "code",
   "execution_count": 185,
   "metadata": {
    "collapsed": true
   },
   "outputs": [],
   "source": [
    "dump = d1_top.append(d2_top,ignore_index = True)"
   ]
  },
  {
   "cell_type": "code",
   "execution_count": 186,
   "metadata": {
    "collapsed": true
   },
   "outputs": [],
   "source": [
    "data_final = dump.append(d3_top,ignore_index = True)"
   ]
  },
  {
   "cell_type": "code",
   "execution_count": 187,
   "metadata": {},
   "outputs": [
    {
     "data": {
      "text/plain": [
       "(8723, 20)"
      ]
     },
     "execution_count": 187,
     "metadata": {},
     "output_type": "execute_result"
    }
   ],
   "source": [
    "data_final.shape"
   ]
  },
  {
   "cell_type": "code",
   "execution_count": 188,
   "metadata": {},
   "outputs": [
    {
     "data": {
      "image/png": "[encoded data removed]",
      "text/plain": [
       "<Figure size 432x288 with 1 Axes>"
      ]
     },
     "metadata": {
      "needs_background": "light"
     },
     "output_type": "display_data"
    }
   ],
   "source": [
    "s=sns.barplot(data=data_final,x='country_code', y='raised_amount_usd', hue=\"main_sector\", estimator=np.sum)\n",
    "plt.show()"
   ]
  },
  {
   "cell_type": "code",
   "execution_count": null,
   "metadata": {
    "collapsed": true
   },
   "outputs": [],
   "source": []
  }
 ],
 "metadata": {
  "kernelspec": {
   "display_name": "Python 3",
   "language": "python",
   "name": "python3"
  },
  "language_info": {
   "codemirror_mode": {
    "name": "ipython",
    "version": 3
   },
   "file_extension": ".py",
   "mimetype": "text/x-python",
   "name": "python",
   "nbconvert_exporter": "python",
   "pygments_lexer": "ipython3",
   "version": "3.6.3"
  }
 },
 "nbformat": 4,
 "nbformat_minor": 4
}
